{
 "cells": [
  {
   "cell_type": "markdown",
   "id": "5950312a-b334-4c7f-b7b9-dd06924ccba2",
   "metadata": {},
   "source": [
    "### Load Libraries"
   ]
  },
  {
   "cell_type": "code",
   "execution_count": 228,
   "id": "10f4e545-0683-4bc7-8d0e-15104f2949de",
   "metadata": {},
   "outputs": [],
   "source": [
    "import pandas as pd\n",
    "import numpy as np\n",
    "import matplotlib.pyplot as plt\n",
    "import seaborn as sns\n",
    "\n",
    "# Diable warnings\n",
    "import warnings\n",
    "warnings.filterwarnings('ignore')\n",
    "\n",
    "from sklearn.model_selection import train_test_split, cross_val_score,GridSearchCV\n",
    "\n",
    "\n",
    "from sklearn.pipeline import make_pipeline, Pipeline\n",
    "from sklearn.preprocessing import MinMaxScaler, OneHotEncoder, PolynomialFeatures, StandardScaler\n",
    "from sklearn.compose import ColumnTransformer, TransformedTargetRegressor\n",
    "\n",
    "from sklearn.linear_model import LinearRegression, PoissonRegressor, Ridge, Lasso\n",
    "from sklearn.ensemble import RandomForestRegressor\n",
    "\n",
    "from sklearn.metrics import mean_squared_log_error, make_scorer\n",
    "\n",
    "sns.set_theme(style='darkgrid',font_scale=1.3)"
   ]
  },
  {
   "cell_type": "markdown",
   "id": "bd9519ea-6465-4bd1-8a92-7be7e4173899",
   "metadata": {},
   "source": [
    "### Load Data"
   ]
  },
  {
   "cell_type": "code",
   "execution_count": null,
   "id": "4561d002-9e41-491e-8918-1bced7d154ba",
   "metadata": {},
   "outputs": [],
   "source": [
    "df = pd.read_csv('../data/train.csv',index_col=0, parse_dates=True)\n",
    "df.head()"
   ]
  },
  {
   "cell_type": "code",
   "execution_count": null,
   "id": "80916847-ce3f-4261-b980-110c88006b91",
   "metadata": {},
   "outputs": [],
   "source": [
    "df.info()"
   ]
  },
  {
   "cell_type": "code",
   "execution_count": null,
   "id": "5b79dc3d-ca81-4a2b-ac42-7115eec628f4",
   "metadata": {},
   "outputs": [],
   "source": [
    "# check missing values\n",
    "df.isna().sum()"
   ]
  },
  {
   "cell_type": "markdown",
   "id": "bf133406-acb8-48dd-826a-ce15b5f38f4d",
   "metadata": {
    "toc-hr-collapsed": true
   },
   "source": [
    "### Data Preprocessing"
   ]
  },
  {
   "cell_type": "markdown",
   "id": "e986aebb-a33c-4fa9-afc5-82c5dc084fbb",
   "metadata": {},
   "source": [
    "#### Extract time features"
   ]
  },
  {
   "cell_type": "code",
   "execution_count": null,
   "id": "3bd15741-9f1f-4d65-9e4a-db7cde780755",
   "metadata": {},
   "outputs": [],
   "source": [
    "df['year'] = df.index.year\n",
    "df['month'] = df.index.month\n",
    "df['day'] = df.index.day\n",
    "df['weekday'] = df.index.weekday\n",
    "df['hour'] = df.index.hour\n",
    "df.head()"
   ]
  },
  {
   "cell_type": "markdown",
   "id": "da484595-263c-4d97-b792-282e055fa38c",
   "metadata": {
    "toc-hr-collapsed": true
   },
   "source": [
    "### Exploratory Data Analysis"
   ]
  },
  {
   "cell_type": "markdown",
   "id": "22b910ea-6199-4c80-a8e5-60fec8553e31",
   "metadata": {},
   "source": [
    "#### Correlation Analysis of Features"
   ]
  },
  {
   "cell_type": "code",
   "execution_count": null,
   "id": "0e96812f-fe93-465b-ab9a-c3f47e3e450a",
   "metadata": {},
   "outputs": [],
   "source": [
    "df.head()\n",
    "plt.figure(figsize=(18,10))\n",
    "corr = df.drop(['casual','registered'],axis=1).corr()\n",
    "sns.heatmap(corr, annot=True)"
   ]
  },
  {
   "cell_type": "markdown",
   "id": "3b940356-f150-4c5a-91b4-47bd97800312",
   "metadata": {},
   "source": [
    "There is high correlation between ```month``` and ```season```, ```weekday``` and ```workingday```, ```temp``` and ```atemp```\n",
    "\n",
    "Therefore we can drop ``` workingday```, ```season``` and ```atemp```  "
   ]
  },
  {
   "cell_type": "code",
   "execution_count": null,
   "id": "34ce51ce-3ff7-4c53-9aed-12ecfcfa7afb",
   "metadata": {},
   "outputs": [],
   "source": [
    "# Drop 'workingday', 'season', and 'atemp' \n",
    "df.drop(['workingday', 'season', 'atemp'], axis = 1, inplace = True)"
   ]
  },
  {
   "cell_type": "markdown",
   "id": "17cd4625-a37a-477e-b094-dad80110ee6b",
   "metadata": {},
   "source": [
    "#### Analyze Average of Counts Per Time "
   ]
  },
  {
   "cell_type": "code",
   "execution_count": null,
   "id": "d1bf069e-7870-4f3c-841d-8a11f9cf82ef",
   "metadata": {},
   "outputs": [],
   "source": [
    "fig, ax = plt.subplots(3, 1, figsize=(8, 20))\n",
    "ax = ax.flatten() \n",
    "features = ['month','day','hour']\n",
    "\n",
    "for index,feature in enumerate(features):\n",
    "        \n",
    "        sns.lineplot(ax=ax[index],x=feature,y='casual',data=df.groupby(feature)['casual'].mean().reset_index(),label ='casual')\n",
    "        sns.lineplot(ax=ax[index],x=feature,y='registered',data=df.groupby(feature)['registered'].mean().reset_index(),label= 'registered')\n",
    "        sns.lineplot(ax=ax[index],x=feature,y='count',data=df.groupby(feature)['count'].mean().reset_index(),label = 'count')\n",
    "        ax[index].legend(loc='upper left')\n",
    "        ax[index].set_ylabel('')\n",
    "        ax[index].set_title(f'Average of Counts Per {feature}')"
   ]
  },
  {
   "cell_type": "markdown",
   "id": "355af7be-37cc-4f09-b13d-a547ce4cfa9d",
   "metadata": {},
   "source": [
    "#### Analyze Hourly Trends"
   ]
  },
  {
   "cell_type": "code",
   "execution_count": null,
   "id": "59073258-c174-43cf-bc7c-ea5b354d198a",
   "metadata": {},
   "outputs": [],
   "source": [
    "# Hourly trends of count of bikes during weekdays and holdays\n",
    "fig = plt.figure(figsize=(8,6))\n",
    "ax = sns.pointplot(data=df, x='hour', y='count', hue='holiday');\n",
    "handles, labels  =  ax.get_legend_handles_labels()\n",
    "ax.legend(handles,['workingday','holiday']);"
   ]
  },
  {
   "cell_type": "code",
   "execution_count": null,
   "id": "96c5e94a-9897-4f0b-92ae-bf23e4b89d99",
   "metadata": {},
   "outputs": [],
   "source": [
    "# Hourly trends of count of bikes with differet weather condition (1 = good -> 4 = very bad)\n",
    "fig = plt.figure(figsize=(8,6))\n",
    "sns.pointplot(data=df, x=\"hour\", y=\"count\", hue=\"weather\");"
   ]
  },
  {
   "cell_type": "markdown",
   "id": "c122b3c0-07f3-4208-9342-54284e9f8b44",
   "metadata": {},
   "source": [
    "#### Analyze Affect of Selected Features on Count"
   ]
  },
  {
   "cell_type": "markdown",
   "id": "6e2210ac-28ac-4487-b540-ee0887778c9d",
   "metadata": {},
   "source": [
    "##### Environmental Conditions"
   ]
  },
  {
   "cell_type": "code",
   "execution_count": null,
   "id": "21adb872-6fc2-4077-9a9e-71edf3df0e51",
   "metadata": {},
   "outputs": [],
   "source": [
    "# Counts depending on weather\n",
    "plt.figure(figsize=(15,8))\n",
    "ax = sns.violinplot(x=df['weather'].astype(str),y=df['count'], size = 4)\n",
    "plt.show()"
   ]
  },
  {
   "cell_type": "code",
   "execution_count": null,
   "id": "4053d8ee-678f-40e6-b77b-5aff38593914",
   "metadata": {},
   "outputs": [],
   "source": [
    "# Counts depending on temp, humidity and, windspeed\n",
    "sns.pairplot(data = df,\n",
    "             x_vars = ['temp', 'humidity', 'windspeed'],\n",
    "             y_vars = ['casual', 'registered', 'count'],\n",
    "             kind='reg')"
   ]
  },
  {
   "cell_type": "markdown",
   "id": "9e094f17-249a-44ed-a8cd-4d5d45045cc2",
   "metadata": {},
   "source": [
    "People prefer more cycling as the days get hotter and prefere less cycling as the days get wetter"
   ]
  },
  {
   "cell_type": "markdown",
   "id": "0a78541d-ee9c-4c7f-8f7b-7025cd46f0dc",
   "metadata": {},
   "source": [
    "##### Other Features"
   ]
  },
  {
   "cell_type": "code",
   "execution_count": null,
   "id": "bbb7523d-2922-4792-a9b9-df2420c68178",
   "metadata": {},
   "outputs": [],
   "source": [
    "# Counts depending on holiday (holiday = 1)\n",
    "plt.figure(figsize=(8,6))\n",
    "sns.boxplot(data = df, x='holiday', y='count')"
   ]
  },
  {
   "cell_type": "markdown",
   "id": "d2399278-794c-4160-8527-1b8d6809a67c",
   "metadata": {
    "tags": []
   },
   "source": [
    "### Linear Regression"
   ]
  },
  {
   "cell_type": "code",
   "execution_count": null,
   "id": "e626907f-08c3-468d-80bf-1d81494700bb",
   "metadata": {},
   "outputs": [],
   "source": [
    "# define features and target\n",
    "X = df.drop(['count','registered','casual'], axis=1)\n",
    "y = df['count']"
   ]
  },
  {
   "cell_type": "code",
   "execution_count": null,
   "id": "20df9007-5142-4b95-b7ac-ed373be08e26",
   "metadata": {},
   "outputs": [],
   "source": [
    "# Train-test split of the data\n",
    "X_train,X_test,y_train, y_test = train_test_split(X,y,test_size=0.2,random_state=100)\n",
    "X_train.shape, X_test.shape, y_train.shape, y_test.shape"
   ]
  },
  {
   "cell_type": "markdown",
   "id": "88cfe09f-ec00-4944-8fcc-5d658a3eea7f",
   "metadata": {},
   "source": [
    "#### Feature Engineering"
   ]
  },
  {
   "cell_type": "markdown",
   "id": "88f08440-4b2b-48c2-8519-e40b879bf59a",
   "metadata": {},
   "source": [
    "Numeric columns should be scaled, categorical columns should be onehot encoded, use of polynomial features"
   ]
  },
  {
   "cell_type": "markdown",
   "id": "da4c6d7b-2f48-43d5-9b5c-db30d0e6cf06",
   "metadata": {},
   "source": [
    "##### Define Pipelines"
   ]
  },
  {
   "cell_type": "code",
   "execution_count": null,
   "id": "0da82c5b-bce1-49f6-b438-049339c179dd",
   "metadata": {},
   "outputs": [],
   "source": [
    "# Scaling for numeric variables\n",
    "num_pipe = make_pipeline(\n",
    "    MinMaxScaler()\n",
    ")"
   ]
  },
  {
   "cell_type": "code",
   "execution_count": null,
   "id": "02c69a4e-d9c0-4d3d-9638-0305bd0878a2",
   "metadata": {},
   "outputs": [],
   "source": [
    "# One_hot_encoding for categorical variables\n",
    "cat_pipe = make_pipeline(\n",
    "    OneHotEncoder(handle_unknown = 'ignore')\n",
    ")"
   ]
  },
  {
   "cell_type": "code",
   "execution_count": null,
   "id": "87d71811-45a2-4355-be17-199a97cbb99f",
   "metadata": {},
   "outputs": [],
   "source": [
    "# Define preprocessor\n",
    "feature_transform = ColumnTransformer([\n",
    "    ('do_nothing', 'passthrough', ['holiday']), \n",
    "    ('one_hot_encoding', cat_pipe, ['weather','year', 'month', 'day', 'hour']),\n",
    "    ('scaling', num_pipe, ['temp','humidity', 'windspeed'])\n",
    "])"
   ]
  },
  {
   "cell_type": "markdown",
   "id": "4fa5639a-cb49-4ecb-9512-b3953abf8a7e",
   "metadata": {},
   "source": [
    "#### Create Model"
   ]
  },
  {
   "cell_type": "code",
   "execution_count": null,
   "id": "c6a234a1-0564-408a-80e8-b61228199df0",
   "metadata": {},
   "outputs": [],
   "source": [
    "lr = Pipeline([\n",
    "            ('preprocessor', feature_transform),\n",
    "            ('poly_features', PolynomialFeatures(degree=2, \n",
    "                                                 include_bias=False, \n",
    "                                                 interaction_only=False)),\n",
    "            ('m_lr', LinearRegression())\n",
    "])\n",
    "\n",
    "# Do target transformation\n",
    "lr_t = TransformedTargetRegressor(regressor=lr, func=np.log1p, inverse_func=np.expm1)"
   ]
  },
  {
   "cell_type": "code",
   "execution_count": 57,
   "id": "14071c37-40b7-4f8a-8aa7-b1ef371c5dba",
   "metadata": {},
   "outputs": [
    {
     "data": {
      "text/html": [
       "<style>#sk-container-id-4 {color: black;background-color: white;}#sk-container-id-4 pre{padding: 0;}#sk-container-id-4 div.sk-toggleable {background-color: white;}#sk-container-id-4 label.sk-toggleable__label {cursor: pointer;display: block;width: 100%;margin-bottom: 0;padding: 0.3em;box-sizing: border-box;text-align: center;}#sk-container-id-4 label.sk-toggleable__label-arrow:before {content: \"▸\";float: left;margin-right: 0.25em;color: #696969;}#sk-container-id-4 label.sk-toggleable__label-arrow:hover:before {color: black;}#sk-container-id-4 div.sk-estimator:hover label.sk-toggleable__label-arrow:before {color: black;}#sk-container-id-4 div.sk-toggleable__content {max-height: 0;max-width: 0;overflow: hidden;text-align: left;background-color: #f0f8ff;}#sk-container-id-4 div.sk-toggleable__content pre {margin: 0.2em;color: black;border-radius: 0.25em;background-color: #f0f8ff;}#sk-container-id-4 input.sk-toggleable__control:checked~div.sk-toggleable__content {max-height: 200px;max-width: 100%;overflow: auto;}#sk-container-id-4 input.sk-toggleable__control:checked~label.sk-toggleable__label-arrow:before {content: \"▾\";}#sk-container-id-4 div.sk-estimator input.sk-toggleable__control:checked~label.sk-toggleable__label {background-color: #d4ebff;}#sk-container-id-4 div.sk-label input.sk-toggleable__control:checked~label.sk-toggleable__label {background-color: #d4ebff;}#sk-container-id-4 input.sk-hidden--visually {border: 0;clip: rect(1px 1px 1px 1px);clip: rect(1px, 1px, 1px, 1px);height: 1px;margin: -1px;overflow: hidden;padding: 0;position: absolute;width: 1px;}#sk-container-id-4 div.sk-estimator {font-family: monospace;background-color: #f0f8ff;border: 1px dotted black;border-radius: 0.25em;box-sizing: border-box;margin-bottom: 0.5em;}#sk-container-id-4 div.sk-estimator:hover {background-color: #d4ebff;}#sk-container-id-4 div.sk-parallel-item::after {content: \"\";width: 100%;border-bottom: 1px solid gray;flex-grow: 1;}#sk-container-id-4 div.sk-label:hover label.sk-toggleable__label {background-color: #d4ebff;}#sk-container-id-4 div.sk-serial::before {content: \"\";position: absolute;border-left: 1px solid gray;box-sizing: border-box;top: 0;bottom: 0;left: 50%;z-index: 0;}#sk-container-id-4 div.sk-serial {display: flex;flex-direction: column;align-items: center;background-color: white;padding-right: 0.2em;padding-left: 0.2em;position: relative;}#sk-container-id-4 div.sk-item {position: relative;z-index: 1;}#sk-container-id-4 div.sk-parallel {display: flex;align-items: stretch;justify-content: center;background-color: white;position: relative;}#sk-container-id-4 div.sk-item::before, #sk-container-id-4 div.sk-parallel-item::before {content: \"\";position: absolute;border-left: 1px solid gray;box-sizing: border-box;top: 0;bottom: 0;left: 50%;z-index: -1;}#sk-container-id-4 div.sk-parallel-item {display: flex;flex-direction: column;z-index: 1;position: relative;background-color: white;}#sk-container-id-4 div.sk-parallel-item:first-child::after {align-self: flex-end;width: 50%;}#sk-container-id-4 div.sk-parallel-item:last-child::after {align-self: flex-start;width: 50%;}#sk-container-id-4 div.sk-parallel-item:only-child::after {width: 0;}#sk-container-id-4 div.sk-dashed-wrapped {border: 1px dashed gray;margin: 0 0.4em 0.5em 0.4em;box-sizing: border-box;padding-bottom: 0.4em;background-color: white;}#sk-container-id-4 div.sk-label label {font-family: monospace;font-weight: bold;display: inline-block;line-height: 1.2em;}#sk-container-id-4 div.sk-label-container {text-align: center;}#sk-container-id-4 div.sk-container {/* jupyter's `normalize.less` sets `[hidden] { display: none; }` but bootstrap.min.css set `[hidden] { display: none !important; }` so we also need the `!important` here to be able to override the default hidden behavior on the sphinx rendered scikit-learn.org. See: https://github.com/scikit-learn/scikit-learn/issues/21755 */display: inline-block !important;position: relative;}#sk-container-id-4 div.sk-text-repr-fallback {display: none;}</style><div id=\"sk-container-id-4\" class=\"sk-top-container\"><div class=\"sk-text-repr-fallback\"><pre>TransformedTargetRegressor(func=&lt;ufunc &#x27;log1p&#x27;&gt;, inverse_func=&lt;ufunc &#x27;expm1&#x27;&gt;,\n",
       "                           regressor=Pipeline(steps=[(&#x27;preprocessor&#x27;,\n",
       "                                                      ColumnTransformer(transformers=[(&#x27;do_nothing&#x27;,\n",
       "                                                                                       &#x27;passthrough&#x27;,\n",
       "                                                                                       [&#x27;holiday&#x27;]),\n",
       "                                                                                      (&#x27;one_hot_encoding&#x27;,\n",
       "                                                                                       Pipeline(steps=[(&#x27;onehotencoder&#x27;,\n",
       "                                                                                                        OneHotEncoder(handle_unknown=&#x27;ignore&#x27;))]),\n",
       "                                                                                       [&#x27;weather&#x27;,\n",
       "                                                                                        &#x27;year&#x27;,\n",
       "                                                                                        &#x27;month&#x27;,\n",
       "                                                                                        &#x27;day&#x27;,\n",
       "                                                                                        &#x27;hour&#x27;]),\n",
       "                                                                                      (&#x27;scaling&#x27;,\n",
       "                                                                                       Pipeline(steps=[(&#x27;minmaxscaler&#x27;,\n",
       "                                                                                                        MinMaxScaler())]),\n",
       "                                                                                       [&#x27;temp&#x27;,\n",
       "                                                                                        &#x27;humidity&#x27;,\n",
       "                                                                                        &#x27;windspeed&#x27;])])),\n",
       "                                                     (&#x27;poly_features&#x27;,\n",
       "                                                      PolynomialFeatures(include_bias=False)),\n",
       "                                                     (&#x27;m_lr&#x27;,\n",
       "                                                      LinearRegression())]))</pre><b>In a Jupyter environment, please rerun this cell to show the HTML representation or trust the notebook. <br />On GitHub, the HTML representation is unable to render, please try loading this page with nbviewer.org.</b></div><div class=\"sk-container\" hidden><div class=\"sk-item sk-dashed-wrapped\"><div class=\"sk-label-container\"><div class=\"sk-label sk-toggleable\"><input class=\"sk-toggleable__control sk-hidden--visually\" id=\"sk-estimator-id-33\" type=\"checkbox\" ><label for=\"sk-estimator-id-33\" class=\"sk-toggleable__label sk-toggleable__label-arrow\">TransformedTargetRegressor</label><div class=\"sk-toggleable__content\"><pre>TransformedTargetRegressor(func=&lt;ufunc &#x27;log1p&#x27;&gt;, inverse_func=&lt;ufunc &#x27;expm1&#x27;&gt;,\n",
       "                           regressor=Pipeline(steps=[(&#x27;preprocessor&#x27;,\n",
       "                                                      ColumnTransformer(transformers=[(&#x27;do_nothing&#x27;,\n",
       "                                                                                       &#x27;passthrough&#x27;,\n",
       "                                                                                       [&#x27;holiday&#x27;]),\n",
       "                                                                                      (&#x27;one_hot_encoding&#x27;,\n",
       "                                                                                       Pipeline(steps=[(&#x27;onehotencoder&#x27;,\n",
       "                                                                                                        OneHotEncoder(handle_unknown=&#x27;ignore&#x27;))]),\n",
       "                                                                                       [&#x27;weather&#x27;,\n",
       "                                                                                        &#x27;year&#x27;,\n",
       "                                                                                        &#x27;month&#x27;,\n",
       "                                                                                        &#x27;day&#x27;,\n",
       "                                                                                        &#x27;hour&#x27;]),\n",
       "                                                                                      (&#x27;scaling&#x27;,\n",
       "                                                                                       Pipeline(steps=[(&#x27;minmaxscaler&#x27;,\n",
       "                                                                                                        MinMaxScaler())]),\n",
       "                                                                                       [&#x27;temp&#x27;,\n",
       "                                                                                        &#x27;humidity&#x27;,\n",
       "                                                                                        &#x27;windspeed&#x27;])])),\n",
       "                                                     (&#x27;poly_features&#x27;,\n",
       "                                                      PolynomialFeatures(include_bias=False)),\n",
       "                                                     (&#x27;m_lr&#x27;,\n",
       "                                                      LinearRegression())]))</pre></div></div></div><div class=\"sk-parallel\"><div class=\"sk-parallel-item\"><div class=\"sk-item\"><div class=\"sk-label-container\"><div class=\"sk-label sk-toggleable\"><input class=\"sk-toggleable__control sk-hidden--visually\" id=\"sk-estimator-id-34\" type=\"checkbox\" ><label for=\"sk-estimator-id-34\" class=\"sk-toggleable__label sk-toggleable__label-arrow\">regressor: Pipeline</label><div class=\"sk-toggleable__content\"><pre>Pipeline(steps=[(&#x27;preprocessor&#x27;,\n",
       "                 ColumnTransformer(transformers=[(&#x27;do_nothing&#x27;, &#x27;passthrough&#x27;,\n",
       "                                                  [&#x27;holiday&#x27;]),\n",
       "                                                 (&#x27;one_hot_encoding&#x27;,\n",
       "                                                  Pipeline(steps=[(&#x27;onehotencoder&#x27;,\n",
       "                                                                   OneHotEncoder(handle_unknown=&#x27;ignore&#x27;))]),\n",
       "                                                  [&#x27;weather&#x27;, &#x27;year&#x27;, &#x27;month&#x27;,\n",
       "                                                   &#x27;day&#x27;, &#x27;hour&#x27;]),\n",
       "                                                 (&#x27;scaling&#x27;,\n",
       "                                                  Pipeline(steps=[(&#x27;minmaxscaler&#x27;,\n",
       "                                                                   MinMaxScaler())]),\n",
       "                                                  [&#x27;temp&#x27;, &#x27;humidity&#x27;,\n",
       "                                                   &#x27;windspeed&#x27;])])),\n",
       "                (&#x27;poly_features&#x27;, PolynomialFeatures(include_bias=False)),\n",
       "                (&#x27;m_lr&#x27;, LinearRegression())])</pre></div></div></div><div class=\"sk-serial\"><div class=\"sk-item\"><div class=\"sk-serial\"><div class=\"sk-item sk-dashed-wrapped\"><div class=\"sk-label-container\"><div class=\"sk-label sk-toggleable\"><input class=\"sk-toggleable__control sk-hidden--visually\" id=\"sk-estimator-id-35\" type=\"checkbox\" ><label for=\"sk-estimator-id-35\" class=\"sk-toggleable__label sk-toggleable__label-arrow\">preprocessor: ColumnTransformer</label><div class=\"sk-toggleable__content\"><pre>ColumnTransformer(transformers=[(&#x27;do_nothing&#x27;, &#x27;passthrough&#x27;, [&#x27;holiday&#x27;]),\n",
       "                                (&#x27;one_hot_encoding&#x27;,\n",
       "                                 Pipeline(steps=[(&#x27;onehotencoder&#x27;,\n",
       "                                                  OneHotEncoder(handle_unknown=&#x27;ignore&#x27;))]),\n",
       "                                 [&#x27;weather&#x27;, &#x27;year&#x27;, &#x27;month&#x27;, &#x27;day&#x27;, &#x27;hour&#x27;]),\n",
       "                                (&#x27;scaling&#x27;,\n",
       "                                 Pipeline(steps=[(&#x27;minmaxscaler&#x27;,\n",
       "                                                  MinMaxScaler())]),\n",
       "                                 [&#x27;temp&#x27;, &#x27;humidity&#x27;, &#x27;windspeed&#x27;])])</pre></div></div></div><div class=\"sk-parallel\"><div class=\"sk-parallel-item\"><div class=\"sk-item\"><div class=\"sk-label-container\"><div class=\"sk-label sk-toggleable\"><input class=\"sk-toggleable__control sk-hidden--visually\" id=\"sk-estimator-id-36\" type=\"checkbox\" ><label for=\"sk-estimator-id-36\" class=\"sk-toggleable__label sk-toggleable__label-arrow\">do_nothing</label><div class=\"sk-toggleable__content\"><pre>[&#x27;holiday&#x27;]</pre></div></div></div><div class=\"sk-serial\"><div class=\"sk-item\"><div class=\"sk-estimator sk-toggleable\"><input class=\"sk-toggleable__control sk-hidden--visually\" id=\"sk-estimator-id-37\" type=\"checkbox\" ><label for=\"sk-estimator-id-37\" class=\"sk-toggleable__label sk-toggleable__label-arrow\">passthrough</label><div class=\"sk-toggleable__content\"><pre>passthrough</pre></div></div></div></div></div></div><div class=\"sk-parallel-item\"><div class=\"sk-item\"><div class=\"sk-label-container\"><div class=\"sk-label sk-toggleable\"><input class=\"sk-toggleable__control sk-hidden--visually\" id=\"sk-estimator-id-38\" type=\"checkbox\" ><label for=\"sk-estimator-id-38\" class=\"sk-toggleable__label sk-toggleable__label-arrow\">one_hot_encoding</label><div class=\"sk-toggleable__content\"><pre>[&#x27;weather&#x27;, &#x27;year&#x27;, &#x27;month&#x27;, &#x27;day&#x27;, &#x27;hour&#x27;]</pre></div></div></div><div class=\"sk-serial\"><div class=\"sk-item\"><div class=\"sk-serial\"><div class=\"sk-item\"><div class=\"sk-estimator sk-toggleable\"><input class=\"sk-toggleable__control sk-hidden--visually\" id=\"sk-estimator-id-39\" type=\"checkbox\" ><label for=\"sk-estimator-id-39\" class=\"sk-toggleable__label sk-toggleable__label-arrow\">OneHotEncoder</label><div class=\"sk-toggleable__content\"><pre>OneHotEncoder(handle_unknown=&#x27;ignore&#x27;)</pre></div></div></div></div></div></div></div></div><div class=\"sk-parallel-item\"><div class=\"sk-item\"><div class=\"sk-label-container\"><div class=\"sk-label sk-toggleable\"><input class=\"sk-toggleable__control sk-hidden--visually\" id=\"sk-estimator-id-40\" type=\"checkbox\" ><label for=\"sk-estimator-id-40\" class=\"sk-toggleable__label sk-toggleable__label-arrow\">scaling</label><div class=\"sk-toggleable__content\"><pre>[&#x27;temp&#x27;, &#x27;humidity&#x27;, &#x27;windspeed&#x27;]</pre></div></div></div><div class=\"sk-serial\"><div class=\"sk-item\"><div class=\"sk-serial\"><div class=\"sk-item\"><div class=\"sk-estimator sk-toggleable\"><input class=\"sk-toggleable__control sk-hidden--visually\" id=\"sk-estimator-id-41\" type=\"checkbox\" ><label for=\"sk-estimator-id-41\" class=\"sk-toggleable__label sk-toggleable__label-arrow\">MinMaxScaler</label><div class=\"sk-toggleable__content\"><pre>MinMaxScaler()</pre></div></div></div></div></div></div></div></div></div></div><div class=\"sk-item\"><div class=\"sk-estimator sk-toggleable\"><input class=\"sk-toggleable__control sk-hidden--visually\" id=\"sk-estimator-id-42\" type=\"checkbox\" ><label for=\"sk-estimator-id-42\" class=\"sk-toggleable__label sk-toggleable__label-arrow\">PolynomialFeatures</label><div class=\"sk-toggleable__content\"><pre>PolynomialFeatures(include_bias=False)</pre></div></div></div><div class=\"sk-item\"><div class=\"sk-estimator sk-toggleable\"><input class=\"sk-toggleable__control sk-hidden--visually\" id=\"sk-estimator-id-43\" type=\"checkbox\" ><label for=\"sk-estimator-id-43\" class=\"sk-toggleable__label sk-toggleable__label-arrow\">LinearRegression</label><div class=\"sk-toggleable__content\"><pre>LinearRegression()</pre></div></div></div></div></div></div></div></div></div></div></div></div>"
      ],
      "text/plain": [
       "TransformedTargetRegressor(func=<ufunc 'log1p'>, inverse_func=<ufunc 'expm1'>,\n",
       "                           regressor=Pipeline(steps=[('preprocessor',\n",
       "                                                      ColumnTransformer(transformers=[('do_nothing',\n",
       "                                                                                       'passthrough',\n",
       "                                                                                       ['holiday']),\n",
       "                                                                                      ('one_hot_encoding',\n",
       "                                                                                       Pipeline(steps=[('onehotencoder',\n",
       "                                                                                                        OneHotEncoder(handle_unknown='ignore'))]),\n",
       "                                                                                       ['weather',\n",
       "                                                                                        'year',\n",
       "                                                                                        'month',\n",
       "                                                                                        'day',\n",
       "                                                                                        'hour']),\n",
       "                                                                                      ('scaling',\n",
       "                                                                                       Pipeline(steps=[('minmaxscaler',\n",
       "                                                                                                        MinMaxScaler())]),\n",
       "                                                                                       ['temp',\n",
       "                                                                                        'humidity',\n",
       "                                                                                        'windspeed'])])),\n",
       "                                                     ('poly_features',\n",
       "                                                      PolynomialFeatures(include_bias=False)),\n",
       "                                                     ('m_lr',\n",
       "                                                      LinearRegression())]))"
      ]
     },
     "execution_count": 57,
     "metadata": {},
     "output_type": "execute_result"
    }
   ],
   "source": [
    "lr_t.fit(X_train, y_train)"
   ]
  },
  {
   "cell_type": "markdown",
   "id": "9796e22a-517e-4c79-94fb-f33ad02f89ec",
   "metadata": {},
   "source": [
    "#### Evaluate Model"
   ]
  },
  {
   "cell_type": "code",
   "execution_count": 58,
   "id": "6b970ac9-f345-4218-bb7c-f4db6a26c018",
   "metadata": {},
   "outputs": [],
   "source": [
    "# Define rmsle function for evaluation\n",
    "def rmsle(y_true, y_pred):\n",
    "    return np.sqrt(mean_squared_log_error(y_true, y_pred))"
   ]
  },
  {
   "cell_type": "code",
   "execution_count": 59,
   "id": "6c482db7-a9f0-40a3-8b4e-e1da94a8f524",
   "metadata": {},
   "outputs": [],
   "source": [
    "# Transform rmsle fucntion into scorer \n",
    "rmsle_scorer = make_scorer(score_func=rmsle, greater_is_better=False)"
   ]
  },
  {
   "cell_type": "code",
   "execution_count": 60,
   "id": "2e9b75dc-61c3-40a1-bab1-fcb07d3bd3c8",
   "metadata": {},
   "outputs": [],
   "source": [
    "def print_evaluation_metrics(model,X_train,y_train,X_test,y_test):\n",
    "    \"\"\" Print out R2 and RMSLE as evaluation metrics \"\"\"\n",
    "    \n",
    "    y_pred_train = model.predict(X_train)\n",
    "    y_pred_test = model.predict(X_test)\n",
    "\n",
    "    print(f'R2 train : {round(model.score(X_train,y_train),2)}')\n",
    "    print(f'R2 test: {round(model.score(X_test,y_test),2)}')\n",
    "    print('\\n')\n",
    "    print(f'RMSLE train: {round(rmsle(y_train, y_pred_train),2)}')\n",
    "    print(f'RMSLE test: {round(rmsle(y_test, y_pred_test),2)}')"
   ]
  },
  {
   "cell_type": "code",
   "execution_count": 61,
   "id": "edf8c5f5-3eab-40db-bbf6-8fb4616b4446",
   "metadata": {},
   "outputs": [
    {
     "name": "stdout",
     "output_type": "stream",
     "text": [
      "R2 train : 0.79\n",
      "R2 test: 0.72\n",
      "\n",
      "\n",
      "RMSLE train: 0.52\n",
      "RMSLE test: 0.63\n"
     ]
    }
   ],
   "source": [
    "print_evaluation_metrics(lr_t,X_train,y_train,X_test,y_test)"
   ]
  },
  {
   "cell_type": "code",
   "execution_count": 64,
   "id": "b79b6ec6-7ff0-453c-b754-a4e32876623a",
   "metadata": {},
   "outputs": [],
   "source": [
    "# # save evaluation metrics using cross validation\n",
    "# def save_evaluation_metrics(model,model_name, summary, X, y):\n",
    "    \n",
    "#     R2 = round(cross_val_score(model, X, y, cv = 4, scoring='r2').mean(),2)\n",
    "#     RMSLE = round(cross_val_score(model, X, y, cv = 4, scoring=rmsle_scorer).mean(),2)\n",
    "    \n",
    "    \n",
    "#     summary['Model Name'].append(model_name)\n",
    "#     summary['R2'].append(R2)\n",
    "    \n",
    "    \n",
    "#     return summary"
   ]
  },
  {
   "cell_type": "code",
   "execution_count": 66,
   "id": "76a32903-00ff-4d04-aa1b-30a785f40ed4",
   "metadata": {},
   "outputs": [],
   "source": [
    "# summary = {'Model Name':[],'R2':[],'RMSLE':[]}\n",
    "\n",
    "# summary = save_evaluation_metrics(lr_t,'Linear Regressin',summary,X,y)\n",
    "# summary"
   ]
  },
  {
   "cell_type": "markdown",
   "id": "7a574dd1-8aef-41ee-8e33-1cf83e717779",
   "metadata": {},
   "source": [
    "### Ridge Regression"
   ]
  },
  {
   "cell_type": "markdown",
   "id": "7fa457f9-a65c-4bee-bd7b-74a3da0b2e54",
   "metadata": {},
   "source": [
    "#### Feature Engineering"
   ]
  },
  {
   "cell_type": "markdown",
   "id": "f8a8bd61-587e-4af0-8ee6-95a38c345063",
   "metadata": {},
   "source": [
    "Same as linear regression"
   ]
  },
  {
   "cell_type": "markdown",
   "id": "873d4192-8574-4ea8-87a4-949a05693527",
   "metadata": {},
   "source": [
    "#### Create Model"
   ]
  },
  {
   "cell_type": "code",
   "execution_count": 116,
   "id": "6fe8d263-8491-4e52-9fc9-d58906a35030",
   "metadata": {},
   "outputs": [],
   "source": [
    "rr = Pipeline([\n",
    "    ('preprocessor', feature_transform),\n",
    "    ('poly_features', PolynomialFeatures(degree=2, \n",
    "                                         include_bias=False,\n",
    "                                         interaction_only=False)),\n",
    "    ('m_rr', Ridge(alpha=1))\n",
    "])\n",
    "# Do target transformation\n",
    "rr_t = TransformedTargetRegressor(regressor=rr, func=np.log1p, inverse_func=np.expm1)"
   ]
  },
  {
   "cell_type": "code",
   "execution_count": 102,
   "id": "cdb3cf3d-62f6-4d30-bc4f-5cca188a4864",
   "metadata": {},
   "outputs": [
    {
     "data": {
      "text/html": [
       "<style>#sk-container-id-12 {color: black;background-color: white;}#sk-container-id-12 pre{padding: 0;}#sk-container-id-12 div.sk-toggleable {background-color: white;}#sk-container-id-12 label.sk-toggleable__label {cursor: pointer;display: block;width: 100%;margin-bottom: 0;padding: 0.3em;box-sizing: border-box;text-align: center;}#sk-container-id-12 label.sk-toggleable__label-arrow:before {content: \"▸\";float: left;margin-right: 0.25em;color: #696969;}#sk-container-id-12 label.sk-toggleable__label-arrow:hover:before {color: black;}#sk-container-id-12 div.sk-estimator:hover label.sk-toggleable__label-arrow:before {color: black;}#sk-container-id-12 div.sk-toggleable__content {max-height: 0;max-width: 0;overflow: hidden;text-align: left;background-color: #f0f8ff;}#sk-container-id-12 div.sk-toggleable__content pre {margin: 0.2em;color: black;border-radius: 0.25em;background-color: #f0f8ff;}#sk-container-id-12 input.sk-toggleable__control:checked~div.sk-toggleable__content {max-height: 200px;max-width: 100%;overflow: auto;}#sk-container-id-12 input.sk-toggleable__control:checked~label.sk-toggleable__label-arrow:before {content: \"▾\";}#sk-container-id-12 div.sk-estimator input.sk-toggleable__control:checked~label.sk-toggleable__label {background-color: #d4ebff;}#sk-container-id-12 div.sk-label input.sk-toggleable__control:checked~label.sk-toggleable__label {background-color: #d4ebff;}#sk-container-id-12 input.sk-hidden--visually {border: 0;clip: rect(1px 1px 1px 1px);clip: rect(1px, 1px, 1px, 1px);height: 1px;margin: -1px;overflow: hidden;padding: 0;position: absolute;width: 1px;}#sk-container-id-12 div.sk-estimator {font-family: monospace;background-color: #f0f8ff;border: 1px dotted black;border-radius: 0.25em;box-sizing: border-box;margin-bottom: 0.5em;}#sk-container-id-12 div.sk-estimator:hover {background-color: #d4ebff;}#sk-container-id-12 div.sk-parallel-item::after {content: \"\";width: 100%;border-bottom: 1px solid gray;flex-grow: 1;}#sk-container-id-12 div.sk-label:hover label.sk-toggleable__label {background-color: #d4ebff;}#sk-container-id-12 div.sk-serial::before {content: \"\";position: absolute;border-left: 1px solid gray;box-sizing: border-box;top: 0;bottom: 0;left: 50%;z-index: 0;}#sk-container-id-12 div.sk-serial {display: flex;flex-direction: column;align-items: center;background-color: white;padding-right: 0.2em;padding-left: 0.2em;position: relative;}#sk-container-id-12 div.sk-item {position: relative;z-index: 1;}#sk-container-id-12 div.sk-parallel {display: flex;align-items: stretch;justify-content: center;background-color: white;position: relative;}#sk-container-id-12 div.sk-item::before, #sk-container-id-12 div.sk-parallel-item::before {content: \"\";position: absolute;border-left: 1px solid gray;box-sizing: border-box;top: 0;bottom: 0;left: 50%;z-index: -1;}#sk-container-id-12 div.sk-parallel-item {display: flex;flex-direction: column;z-index: 1;position: relative;background-color: white;}#sk-container-id-12 div.sk-parallel-item:first-child::after {align-self: flex-end;width: 50%;}#sk-container-id-12 div.sk-parallel-item:last-child::after {align-self: flex-start;width: 50%;}#sk-container-id-12 div.sk-parallel-item:only-child::after {width: 0;}#sk-container-id-12 div.sk-dashed-wrapped {border: 1px dashed gray;margin: 0 0.4em 0.5em 0.4em;box-sizing: border-box;padding-bottom: 0.4em;background-color: white;}#sk-container-id-12 div.sk-label label {font-family: monospace;font-weight: bold;display: inline-block;line-height: 1.2em;}#sk-container-id-12 div.sk-label-container {text-align: center;}#sk-container-id-12 div.sk-container {/* jupyter's `normalize.less` sets `[hidden] { display: none; }` but bootstrap.min.css set `[hidden] { display: none !important; }` so we also need the `!important` here to be able to override the default hidden behavior on the sphinx rendered scikit-learn.org. See: https://github.com/scikit-learn/scikit-learn/issues/21755 */display: inline-block !important;position: relative;}#sk-container-id-12 div.sk-text-repr-fallback {display: none;}</style><div id=\"sk-container-id-12\" class=\"sk-top-container\"><div class=\"sk-text-repr-fallback\"><pre>TransformedTargetRegressor(func=&lt;ufunc &#x27;log1p&#x27;&gt;, inverse_func=&lt;ufunc &#x27;expm1&#x27;&gt;,\n",
       "                           regressor=Pipeline(steps=[(&#x27;preprocessor&#x27;,\n",
       "                                                      ColumnTransformer(transformers=[(&#x27;do_nothing&#x27;,\n",
       "                                                                                       &#x27;passthrough&#x27;,\n",
       "                                                                                       [&#x27;holiday&#x27;]),\n",
       "                                                                                      (&#x27;one_hot_encoding&#x27;,\n",
       "                                                                                       Pipeline(steps=[(&#x27;onehotencoder&#x27;,\n",
       "                                                                                                        OneHotEncoder(handle_unknown=&#x27;ignore&#x27;))]),\n",
       "                                                                                       [&#x27;weather&#x27;,\n",
       "                                                                                        &#x27;year&#x27;,\n",
       "                                                                                        &#x27;month&#x27;,\n",
       "                                                                                        &#x27;day&#x27;,\n",
       "                                                                                        &#x27;hour&#x27;]),\n",
       "                                                                                      (&#x27;scaling&#x27;,\n",
       "                                                                                       Pipeline(steps=[(&#x27;minmaxscaler&#x27;,\n",
       "                                                                                                        MinMaxScaler())]),\n",
       "                                                                                       [&#x27;temp&#x27;,\n",
       "                                                                                        &#x27;humidity&#x27;,\n",
       "                                                                                        &#x27;windspeed&#x27;])])),\n",
       "                                                     (&#x27;poly_features&#x27;,\n",
       "                                                      PolynomialFeatures(include_bias=False)),\n",
       "                                                     (&#x27;m_rr&#x27;, Ridge(alpha=1))]))</pre><b>In a Jupyter environment, please rerun this cell to show the HTML representation or trust the notebook. <br />On GitHub, the HTML representation is unable to render, please try loading this page with nbviewer.org.</b></div><div class=\"sk-container\" hidden><div class=\"sk-item sk-dashed-wrapped\"><div class=\"sk-label-container\"><div class=\"sk-label sk-toggleable\"><input class=\"sk-toggleable__control sk-hidden--visually\" id=\"sk-estimator-id-111\" type=\"checkbox\" ><label for=\"sk-estimator-id-111\" class=\"sk-toggleable__label sk-toggleable__label-arrow\">TransformedTargetRegressor</label><div class=\"sk-toggleable__content\"><pre>TransformedTargetRegressor(func=&lt;ufunc &#x27;log1p&#x27;&gt;, inverse_func=&lt;ufunc &#x27;expm1&#x27;&gt;,\n",
       "                           regressor=Pipeline(steps=[(&#x27;preprocessor&#x27;,\n",
       "                                                      ColumnTransformer(transformers=[(&#x27;do_nothing&#x27;,\n",
       "                                                                                       &#x27;passthrough&#x27;,\n",
       "                                                                                       [&#x27;holiday&#x27;]),\n",
       "                                                                                      (&#x27;one_hot_encoding&#x27;,\n",
       "                                                                                       Pipeline(steps=[(&#x27;onehotencoder&#x27;,\n",
       "                                                                                                        OneHotEncoder(handle_unknown=&#x27;ignore&#x27;))]),\n",
       "                                                                                       [&#x27;weather&#x27;,\n",
       "                                                                                        &#x27;year&#x27;,\n",
       "                                                                                        &#x27;month&#x27;,\n",
       "                                                                                        &#x27;day&#x27;,\n",
       "                                                                                        &#x27;hour&#x27;]),\n",
       "                                                                                      (&#x27;scaling&#x27;,\n",
       "                                                                                       Pipeline(steps=[(&#x27;minmaxscaler&#x27;,\n",
       "                                                                                                        MinMaxScaler())]),\n",
       "                                                                                       [&#x27;temp&#x27;,\n",
       "                                                                                        &#x27;humidity&#x27;,\n",
       "                                                                                        &#x27;windspeed&#x27;])])),\n",
       "                                                     (&#x27;poly_features&#x27;,\n",
       "                                                      PolynomialFeatures(include_bias=False)),\n",
       "                                                     (&#x27;m_rr&#x27;, Ridge(alpha=1))]))</pre></div></div></div><div class=\"sk-parallel\"><div class=\"sk-parallel-item\"><div class=\"sk-item\"><div class=\"sk-label-container\"><div class=\"sk-label sk-toggleable\"><input class=\"sk-toggleable__control sk-hidden--visually\" id=\"sk-estimator-id-112\" type=\"checkbox\" ><label for=\"sk-estimator-id-112\" class=\"sk-toggleable__label sk-toggleable__label-arrow\">regressor: Pipeline</label><div class=\"sk-toggleable__content\"><pre>Pipeline(steps=[(&#x27;preprocessor&#x27;,\n",
       "                 ColumnTransformer(transformers=[(&#x27;do_nothing&#x27;, &#x27;passthrough&#x27;,\n",
       "                                                  [&#x27;holiday&#x27;]),\n",
       "                                                 (&#x27;one_hot_encoding&#x27;,\n",
       "                                                  Pipeline(steps=[(&#x27;onehotencoder&#x27;,\n",
       "                                                                   OneHotEncoder(handle_unknown=&#x27;ignore&#x27;))]),\n",
       "                                                  [&#x27;weather&#x27;, &#x27;year&#x27;, &#x27;month&#x27;,\n",
       "                                                   &#x27;day&#x27;, &#x27;hour&#x27;]),\n",
       "                                                 (&#x27;scaling&#x27;,\n",
       "                                                  Pipeline(steps=[(&#x27;minmaxscaler&#x27;,\n",
       "                                                                   MinMaxScaler())]),\n",
       "                                                  [&#x27;temp&#x27;, &#x27;humidity&#x27;,\n",
       "                                                   &#x27;windspeed&#x27;])])),\n",
       "                (&#x27;poly_features&#x27;, PolynomialFeatures(include_bias=False)),\n",
       "                (&#x27;m_rr&#x27;, Ridge(alpha=1))])</pre></div></div></div><div class=\"sk-serial\"><div class=\"sk-item\"><div class=\"sk-serial\"><div class=\"sk-item sk-dashed-wrapped\"><div class=\"sk-label-container\"><div class=\"sk-label sk-toggleable\"><input class=\"sk-toggleable__control sk-hidden--visually\" id=\"sk-estimator-id-113\" type=\"checkbox\" ><label for=\"sk-estimator-id-113\" class=\"sk-toggleable__label sk-toggleable__label-arrow\">preprocessor: ColumnTransformer</label><div class=\"sk-toggleable__content\"><pre>ColumnTransformer(transformers=[(&#x27;do_nothing&#x27;, &#x27;passthrough&#x27;, [&#x27;holiday&#x27;]),\n",
       "                                (&#x27;one_hot_encoding&#x27;,\n",
       "                                 Pipeline(steps=[(&#x27;onehotencoder&#x27;,\n",
       "                                                  OneHotEncoder(handle_unknown=&#x27;ignore&#x27;))]),\n",
       "                                 [&#x27;weather&#x27;, &#x27;year&#x27;, &#x27;month&#x27;, &#x27;day&#x27;, &#x27;hour&#x27;]),\n",
       "                                (&#x27;scaling&#x27;,\n",
       "                                 Pipeline(steps=[(&#x27;minmaxscaler&#x27;,\n",
       "                                                  MinMaxScaler())]),\n",
       "                                 [&#x27;temp&#x27;, &#x27;humidity&#x27;, &#x27;windspeed&#x27;])])</pre></div></div></div><div class=\"sk-parallel\"><div class=\"sk-parallel-item\"><div class=\"sk-item\"><div class=\"sk-label-container\"><div class=\"sk-label sk-toggleable\"><input class=\"sk-toggleable__control sk-hidden--visually\" id=\"sk-estimator-id-114\" type=\"checkbox\" ><label for=\"sk-estimator-id-114\" class=\"sk-toggleable__label sk-toggleable__label-arrow\">do_nothing</label><div class=\"sk-toggleable__content\"><pre>[&#x27;holiday&#x27;]</pre></div></div></div><div class=\"sk-serial\"><div class=\"sk-item\"><div class=\"sk-estimator sk-toggleable\"><input class=\"sk-toggleable__control sk-hidden--visually\" id=\"sk-estimator-id-115\" type=\"checkbox\" ><label for=\"sk-estimator-id-115\" class=\"sk-toggleable__label sk-toggleable__label-arrow\">passthrough</label><div class=\"sk-toggleable__content\"><pre>passthrough</pre></div></div></div></div></div></div><div class=\"sk-parallel-item\"><div class=\"sk-item\"><div class=\"sk-label-container\"><div class=\"sk-label sk-toggleable\"><input class=\"sk-toggleable__control sk-hidden--visually\" id=\"sk-estimator-id-116\" type=\"checkbox\" ><label for=\"sk-estimator-id-116\" class=\"sk-toggleable__label sk-toggleable__label-arrow\">one_hot_encoding</label><div class=\"sk-toggleable__content\"><pre>[&#x27;weather&#x27;, &#x27;year&#x27;, &#x27;month&#x27;, &#x27;day&#x27;, &#x27;hour&#x27;]</pre></div></div></div><div class=\"sk-serial\"><div class=\"sk-item\"><div class=\"sk-serial\"><div class=\"sk-item\"><div class=\"sk-estimator sk-toggleable\"><input class=\"sk-toggleable__control sk-hidden--visually\" id=\"sk-estimator-id-117\" type=\"checkbox\" ><label for=\"sk-estimator-id-117\" class=\"sk-toggleable__label sk-toggleable__label-arrow\">OneHotEncoder</label><div class=\"sk-toggleable__content\"><pre>OneHotEncoder(handle_unknown=&#x27;ignore&#x27;)</pre></div></div></div></div></div></div></div></div><div class=\"sk-parallel-item\"><div class=\"sk-item\"><div class=\"sk-label-container\"><div class=\"sk-label sk-toggleable\"><input class=\"sk-toggleable__control sk-hidden--visually\" id=\"sk-estimator-id-118\" type=\"checkbox\" ><label for=\"sk-estimator-id-118\" class=\"sk-toggleable__label sk-toggleable__label-arrow\">scaling</label><div class=\"sk-toggleable__content\"><pre>[&#x27;temp&#x27;, &#x27;humidity&#x27;, &#x27;windspeed&#x27;]</pre></div></div></div><div class=\"sk-serial\"><div class=\"sk-item\"><div class=\"sk-serial\"><div class=\"sk-item\"><div class=\"sk-estimator sk-toggleable\"><input class=\"sk-toggleable__control sk-hidden--visually\" id=\"sk-estimator-id-119\" type=\"checkbox\" ><label for=\"sk-estimator-id-119\" class=\"sk-toggleable__label sk-toggleable__label-arrow\">MinMaxScaler</label><div class=\"sk-toggleable__content\"><pre>MinMaxScaler()</pre></div></div></div></div></div></div></div></div></div></div><div class=\"sk-item\"><div class=\"sk-estimator sk-toggleable\"><input class=\"sk-toggleable__control sk-hidden--visually\" id=\"sk-estimator-id-120\" type=\"checkbox\" ><label for=\"sk-estimator-id-120\" class=\"sk-toggleable__label sk-toggleable__label-arrow\">PolynomialFeatures</label><div class=\"sk-toggleable__content\"><pre>PolynomialFeatures(include_bias=False)</pre></div></div></div><div class=\"sk-item\"><div class=\"sk-estimator sk-toggleable\"><input class=\"sk-toggleable__control sk-hidden--visually\" id=\"sk-estimator-id-121\" type=\"checkbox\" ><label for=\"sk-estimator-id-121\" class=\"sk-toggleable__label sk-toggleable__label-arrow\">Ridge</label><div class=\"sk-toggleable__content\"><pre>Ridge(alpha=1)</pre></div></div></div></div></div></div></div></div></div></div></div></div>"
      ],
      "text/plain": [
       "TransformedTargetRegressor(func=<ufunc 'log1p'>, inverse_func=<ufunc 'expm1'>,\n",
       "                           regressor=Pipeline(steps=[('preprocessor',\n",
       "                                                      ColumnTransformer(transformers=[('do_nothing',\n",
       "                                                                                       'passthrough',\n",
       "                                                                                       ['holiday']),\n",
       "                                                                                      ('one_hot_encoding',\n",
       "                                                                                       Pipeline(steps=[('onehotencoder',\n",
       "                                                                                                        OneHotEncoder(handle_unknown='ignore'))]),\n",
       "                                                                                       ['weather',\n",
       "                                                                                        'year',\n",
       "                                                                                        'month',\n",
       "                                                                                        'day',\n",
       "                                                                                        'hour']),\n",
       "                                                                                      ('scaling',\n",
       "                                                                                       Pipeline(steps=[('minmaxscaler',\n",
       "                                                                                                        MinMaxScaler())]),\n",
       "                                                                                       ['temp',\n",
       "                                                                                        'humidity',\n",
       "                                                                                        'windspeed'])])),\n",
       "                                                     ('poly_features',\n",
       "                                                      PolynomialFeatures(include_bias=False)),\n",
       "                                                     ('m_rr', Ridge(alpha=1))]))"
      ]
     },
     "execution_count": 102,
     "metadata": {},
     "output_type": "execute_result"
    }
   ],
   "source": [
    "rr_t.fit(X_train,y_train)"
   ]
  },
  {
   "cell_type": "markdown",
   "id": "ad010117-e69e-4bf8-af36-c7f418fae529",
   "metadata": {},
   "source": [
    "#### Evaluate Model"
   ]
  },
  {
   "cell_type": "code",
   "execution_count": 103,
   "id": "ee5e0485-82df-4221-a589-fc7bf3feb9a3",
   "metadata": {},
   "outputs": [
    {
     "name": "stdout",
     "output_type": "stream",
     "text": [
      "R2 train : 0.79\n",
      "R2 test: 0.72\n",
      "\n",
      "\n",
      "RMSLE train: 0.52\n",
      "RMSLE test: 0.62\n"
     ]
    }
   ],
   "source": [
    "print_evaluation_metrics(rr_t,X_train,y_train,X_test,y_test)"
   ]
  },
  {
   "cell_type": "markdown",
   "id": "030c1e69-e6a8-41d5-93a7-1c4c6e35030a",
   "metadata": {},
   "source": [
    "#### Tune Hyperparameters"
   ]
  },
  {
   "cell_type": "code",
   "execution_count": 129,
   "id": "b5e604c0-0e2c-4b70-bba8-e3e76b9c9da8",
   "metadata": {},
   "outputs": [],
   "source": [
    "# Function to print out results of the hyperparameter optimization\n",
    "def print_results(cv_h, show_all = False):\n",
    "    print('Best:')\n",
    "    print(round(cv_h.best_score_, 3), ' for ', cv_h.best_params_)\n",
    "    if show_all:\n",
    "        print('All:')\n",
    "        for mean, params in zip(cv_h.cv_results_['mean_test_score'], \n",
    "                                cv_h.cv_results_['params']):\n",
    "                print('{}  for {}'.format(round(mean, 3), params))"
   ]
  },
  {
   "cell_type": "code",
   "execution_count": 111,
   "id": "d43834f5-4637-473e-95d7-c986418123cb",
   "metadata": {},
   "outputs": [
    {
     "data": {
      "text/plain": [
       "dict_keys(['check_inverse', 'func', 'inverse_func', 'regressor__memory', 'regressor__steps', 'regressor__verbose', 'regressor__preprocessor', 'regressor__poly_features', 'regressor__m_rr', 'regressor__preprocessor__n_jobs', 'regressor__preprocessor__remainder', 'regressor__preprocessor__sparse_threshold', 'regressor__preprocessor__transformer_weights', 'regressor__preprocessor__transformers', 'regressor__preprocessor__verbose', 'regressor__preprocessor__verbose_feature_names_out', 'regressor__preprocessor__do_nothing', 'regressor__preprocessor__one_hot_encoding', 'regressor__preprocessor__scaling', 'regressor__preprocessor__one_hot_encoding__memory', 'regressor__preprocessor__one_hot_encoding__steps', 'regressor__preprocessor__one_hot_encoding__verbose', 'regressor__preprocessor__one_hot_encoding__onehotencoder', 'regressor__preprocessor__one_hot_encoding__onehotencoder__categories', 'regressor__preprocessor__one_hot_encoding__onehotencoder__drop', 'regressor__preprocessor__one_hot_encoding__onehotencoder__dtype', 'regressor__preprocessor__one_hot_encoding__onehotencoder__handle_unknown', 'regressor__preprocessor__one_hot_encoding__onehotencoder__max_categories', 'regressor__preprocessor__one_hot_encoding__onehotencoder__min_frequency', 'regressor__preprocessor__one_hot_encoding__onehotencoder__sparse', 'regressor__preprocessor__scaling__memory', 'regressor__preprocessor__scaling__steps', 'regressor__preprocessor__scaling__verbose', 'regressor__preprocessor__scaling__minmaxscaler', 'regressor__preprocessor__scaling__minmaxscaler__clip', 'regressor__preprocessor__scaling__minmaxscaler__copy', 'regressor__preprocessor__scaling__minmaxscaler__feature_range', 'regressor__poly_features__degree', 'regressor__poly_features__include_bias', 'regressor__poly_features__interaction_only', 'regressor__poly_features__order', 'regressor__m_rr__alpha', 'regressor__m_rr__copy_X', 'regressor__m_rr__fit_intercept', 'regressor__m_rr__max_iter', 'regressor__m_rr__normalize', 'regressor__m_rr__positive', 'regressor__m_rr__random_state', 'regressor__m_rr__solver', 'regressor__m_rr__tol', 'regressor', 'transformer'])"
      ]
     },
     "execution_count": 111,
     "metadata": {},
     "output_type": "execute_result"
    }
   ],
   "source": [
    "# get list of hyperparameters\n",
    "rr_t.get_params().keys()"
   ]
  },
  {
   "cell_type": "code",
   "execution_count": 151,
   "id": "80358586-7ae1-4209-93d9-5fcf465e202a",
   "metadata": {},
   "outputs": [],
   "source": [
    "parameters = {'regressor__m_rr__alpha': np.arange(1e-2,50,0.5)}"
   ]
  },
  {
   "cell_type": "code",
   "execution_count": 161,
   "id": "dcbcaeca-e83c-4a62-a7ce-c6fd40ccafd6",
   "metadata": {},
   "outputs": [],
   "source": [
    "cv_h =  GridSearchCV(estimator=rr_t,param_grid=parameters,cv=5,n_jobs=-1)"
   ]
  },
  {
   "cell_type": "code",
   "execution_count": 162,
   "id": "9daeabaa-cf60-4d79-893d-7f06cb117aa7",
   "metadata": {},
   "outputs": [
    {
     "data": {
      "text/html": [
       "<style>#sk-container-id-21 {color: black;background-color: white;}#sk-container-id-21 pre{padding: 0;}#sk-container-id-21 div.sk-toggleable {background-color: white;}#sk-container-id-21 label.sk-toggleable__label {cursor: pointer;display: block;width: 100%;margin-bottom: 0;padding: 0.3em;box-sizing: border-box;text-align: center;}#sk-container-id-21 label.sk-toggleable__label-arrow:before {content: \"▸\";float: left;margin-right: 0.25em;color: #696969;}#sk-container-id-21 label.sk-toggleable__label-arrow:hover:before {color: black;}#sk-container-id-21 div.sk-estimator:hover label.sk-toggleable__label-arrow:before {color: black;}#sk-container-id-21 div.sk-toggleable__content {max-height: 0;max-width: 0;overflow: hidden;text-align: left;background-color: #f0f8ff;}#sk-container-id-21 div.sk-toggleable__content pre {margin: 0.2em;color: black;border-radius: 0.25em;background-color: #f0f8ff;}#sk-container-id-21 input.sk-toggleable__control:checked~div.sk-toggleable__content {max-height: 200px;max-width: 100%;overflow: auto;}#sk-container-id-21 input.sk-toggleable__control:checked~label.sk-toggleable__label-arrow:before {content: \"▾\";}#sk-container-id-21 div.sk-estimator input.sk-toggleable__control:checked~label.sk-toggleable__label {background-color: #d4ebff;}#sk-container-id-21 div.sk-label input.sk-toggleable__control:checked~label.sk-toggleable__label {background-color: #d4ebff;}#sk-container-id-21 input.sk-hidden--visually {border: 0;clip: rect(1px 1px 1px 1px);clip: rect(1px, 1px, 1px, 1px);height: 1px;margin: -1px;overflow: hidden;padding: 0;position: absolute;width: 1px;}#sk-container-id-21 div.sk-estimator {font-family: monospace;background-color: #f0f8ff;border: 1px dotted black;border-radius: 0.25em;box-sizing: border-box;margin-bottom: 0.5em;}#sk-container-id-21 div.sk-estimator:hover {background-color: #d4ebff;}#sk-container-id-21 div.sk-parallel-item::after {content: \"\";width: 100%;border-bottom: 1px solid gray;flex-grow: 1;}#sk-container-id-21 div.sk-label:hover label.sk-toggleable__label {background-color: #d4ebff;}#sk-container-id-21 div.sk-serial::before {content: \"\";position: absolute;border-left: 1px solid gray;box-sizing: border-box;top: 0;bottom: 0;left: 50%;z-index: 0;}#sk-container-id-21 div.sk-serial {display: flex;flex-direction: column;align-items: center;background-color: white;padding-right: 0.2em;padding-left: 0.2em;position: relative;}#sk-container-id-21 div.sk-item {position: relative;z-index: 1;}#sk-container-id-21 div.sk-parallel {display: flex;align-items: stretch;justify-content: center;background-color: white;position: relative;}#sk-container-id-21 div.sk-item::before, #sk-container-id-21 div.sk-parallel-item::before {content: \"\";position: absolute;border-left: 1px solid gray;box-sizing: border-box;top: 0;bottom: 0;left: 50%;z-index: -1;}#sk-container-id-21 div.sk-parallel-item {display: flex;flex-direction: column;z-index: 1;position: relative;background-color: white;}#sk-container-id-21 div.sk-parallel-item:first-child::after {align-self: flex-end;width: 50%;}#sk-container-id-21 div.sk-parallel-item:last-child::after {align-self: flex-start;width: 50%;}#sk-container-id-21 div.sk-parallel-item:only-child::after {width: 0;}#sk-container-id-21 div.sk-dashed-wrapped {border: 1px dashed gray;margin: 0 0.4em 0.5em 0.4em;box-sizing: border-box;padding-bottom: 0.4em;background-color: white;}#sk-container-id-21 div.sk-label label {font-family: monospace;font-weight: bold;display: inline-block;line-height: 1.2em;}#sk-container-id-21 div.sk-label-container {text-align: center;}#sk-container-id-21 div.sk-container {/* jupyter's `normalize.less` sets `[hidden] { display: none; }` but bootstrap.min.css set `[hidden] { display: none !important; }` so we also need the `!important` here to be able to override the default hidden behavior on the sphinx rendered scikit-learn.org. See: https://github.com/scikit-learn/scikit-learn/issues/21755 */display: inline-block !important;position: relative;}#sk-container-id-21 div.sk-text-repr-fallback {display: none;}</style><div id=\"sk-container-id-21\" class=\"sk-top-container\"><div class=\"sk-text-repr-fallback\"><pre>GridSearchCV(cv=5,\n",
       "             estimator=TransformedTargetRegressor(func=&lt;ufunc &#x27;log1p&#x27;&gt;,\n",
       "                                                  inverse_func=&lt;ufunc &#x27;expm1&#x27;&gt;,\n",
       "                                                  regressor=Pipeline(steps=[(&#x27;preprocessor&#x27;,\n",
       "                                                                             ColumnTransformer(transformers=[(&#x27;do_nothing&#x27;,\n",
       "                                                                                                              &#x27;passthrough&#x27;,\n",
       "                                                                                                              [&#x27;holiday&#x27;]),\n",
       "                                                                                                             (&#x27;one_hot_encoding&#x27;,\n",
       "                                                                                                              Pipeline(steps=[(&#x27;onehotencoder&#x27;,\n",
       "                                                                                                                               OneHotEncoder(handle_unknown=&#x27;ignore&#x27;))]),\n",
       "                                                                                                              [&#x27;weather&#x27;,\n",
       "                                                                                                               &#x27;year&#x27;,\n",
       "                                                                                                               &#x27;month&#x27;,\n",
       "                                                                                                               &#x27;day&#x27;,\n",
       "                                                                                                               &#x27;hour...\n",
       "       3.001e+01, 3.051e+01, 3.101e+01, 3.151e+01, 3.201e+01, 3.251e+01,\n",
       "       3.301e+01, 3.351e+01, 3.401e+01, 3.451e+01, 3.501e+01, 3.551e+01,\n",
       "       3.601e+01, 3.651e+01, 3.701e+01, 3.751e+01, 3.801e+01, 3.851e+01,\n",
       "       3.901e+01, 3.951e+01, 4.001e+01, 4.051e+01, 4.101e+01, 4.151e+01,\n",
       "       4.201e+01, 4.251e+01, 4.301e+01, 4.351e+01, 4.401e+01, 4.451e+01,\n",
       "       4.501e+01, 4.551e+01, 4.601e+01, 4.651e+01, 4.701e+01, 4.751e+01,\n",
       "       4.801e+01, 4.851e+01, 4.901e+01, 4.951e+01])})</pre><b>In a Jupyter environment, please rerun this cell to show the HTML representation or trust the notebook. <br />On GitHub, the HTML representation is unable to render, please try loading this page with nbviewer.org.</b></div><div class=\"sk-container\" hidden><div class=\"sk-item sk-dashed-wrapped\"><div class=\"sk-label-container\"><div class=\"sk-label sk-toggleable\"><input class=\"sk-toggleable__control sk-hidden--visually\" id=\"sk-estimator-id-218\" type=\"checkbox\" ><label for=\"sk-estimator-id-218\" class=\"sk-toggleable__label sk-toggleable__label-arrow\">GridSearchCV</label><div class=\"sk-toggleable__content\"><pre>GridSearchCV(cv=5,\n",
       "             estimator=TransformedTargetRegressor(func=&lt;ufunc &#x27;log1p&#x27;&gt;,\n",
       "                                                  inverse_func=&lt;ufunc &#x27;expm1&#x27;&gt;,\n",
       "                                                  regressor=Pipeline(steps=[(&#x27;preprocessor&#x27;,\n",
       "                                                                             ColumnTransformer(transformers=[(&#x27;do_nothing&#x27;,\n",
       "                                                                                                              &#x27;passthrough&#x27;,\n",
       "                                                                                                              [&#x27;holiday&#x27;]),\n",
       "                                                                                                             (&#x27;one_hot_encoding&#x27;,\n",
       "                                                                                                              Pipeline(steps=[(&#x27;onehotencoder&#x27;,\n",
       "                                                                                                                               OneHotEncoder(handle_unknown=&#x27;ignore&#x27;))]),\n",
       "                                                                                                              [&#x27;weather&#x27;,\n",
       "                                                                                                               &#x27;year&#x27;,\n",
       "                                                                                                               &#x27;month&#x27;,\n",
       "                                                                                                               &#x27;day&#x27;,\n",
       "                                                                                                               &#x27;hour...\n",
       "       3.001e+01, 3.051e+01, 3.101e+01, 3.151e+01, 3.201e+01, 3.251e+01,\n",
       "       3.301e+01, 3.351e+01, 3.401e+01, 3.451e+01, 3.501e+01, 3.551e+01,\n",
       "       3.601e+01, 3.651e+01, 3.701e+01, 3.751e+01, 3.801e+01, 3.851e+01,\n",
       "       3.901e+01, 3.951e+01, 4.001e+01, 4.051e+01, 4.101e+01, 4.151e+01,\n",
       "       4.201e+01, 4.251e+01, 4.301e+01, 4.351e+01, 4.401e+01, 4.451e+01,\n",
       "       4.501e+01, 4.551e+01, 4.601e+01, 4.651e+01, 4.701e+01, 4.751e+01,\n",
       "       4.801e+01, 4.851e+01, 4.901e+01, 4.951e+01])})</pre></div></div></div><div class=\"sk-parallel\"><div class=\"sk-parallel-item\"><div class=\"sk-item\"><div class=\"sk-label-container\"><div class=\"sk-label sk-toggleable\"><input class=\"sk-toggleable__control sk-hidden--visually\" id=\"sk-estimator-id-219\" type=\"checkbox\" ><label for=\"sk-estimator-id-219\" class=\"sk-toggleable__label sk-toggleable__label-arrow\">estimator: TransformedTargetRegressor</label><div class=\"sk-toggleable__content\"><pre>TransformedTargetRegressor(func=&lt;ufunc &#x27;log1p&#x27;&gt;, inverse_func=&lt;ufunc &#x27;expm1&#x27;&gt;,\n",
       "                           regressor=Pipeline(steps=[(&#x27;preprocessor&#x27;,\n",
       "                                                      ColumnTransformer(transformers=[(&#x27;do_nothing&#x27;,\n",
       "                                                                                       &#x27;passthrough&#x27;,\n",
       "                                                                                       [&#x27;holiday&#x27;]),\n",
       "                                                                                      (&#x27;one_hot_encoding&#x27;,\n",
       "                                                                                       Pipeline(steps=[(&#x27;onehotencoder&#x27;,\n",
       "                                                                                                        OneHotEncoder(handle_unknown=&#x27;ignore&#x27;))]),\n",
       "                                                                                       [&#x27;weather&#x27;,\n",
       "                                                                                        &#x27;year&#x27;,\n",
       "                                                                                        &#x27;month&#x27;,\n",
       "                                                                                        &#x27;day&#x27;,\n",
       "                                                                                        &#x27;hour&#x27;]),\n",
       "                                                                                      (&#x27;scaling&#x27;,\n",
       "                                                                                       Pipeline(steps=[(&#x27;minmaxscaler&#x27;,\n",
       "                                                                                                        MinMaxScaler())]),\n",
       "                                                                                       [&#x27;temp&#x27;,\n",
       "                                                                                        &#x27;humidity&#x27;,\n",
       "                                                                                        &#x27;windspeed&#x27;])])),\n",
       "                                                     (&#x27;poly_features&#x27;,\n",
       "                                                      PolynomialFeatures(include_bias=False)),\n",
       "                                                     (&#x27;m_rr&#x27;, Ridge(alpha=1))]))</pre></div></div></div><div class=\"sk-serial\"><div class=\"sk-item sk-dashed-wrapped\"><div class=\"sk-parallel\"><div class=\"sk-parallel-item\"><div class=\"sk-item\"><div class=\"sk-label-container\"><div class=\"sk-label sk-toggleable\"><input class=\"sk-toggleable__control sk-hidden--visually\" id=\"sk-estimator-id-220\" type=\"checkbox\" ><label for=\"sk-estimator-id-220\" class=\"sk-toggleable__label sk-toggleable__label-arrow\">regressor: Pipeline</label><div class=\"sk-toggleable__content\"><pre>Pipeline(steps=[(&#x27;preprocessor&#x27;,\n",
       "                 ColumnTransformer(transformers=[(&#x27;do_nothing&#x27;, &#x27;passthrough&#x27;,\n",
       "                                                  [&#x27;holiday&#x27;]),\n",
       "                                                 (&#x27;one_hot_encoding&#x27;,\n",
       "                                                  Pipeline(steps=[(&#x27;onehotencoder&#x27;,\n",
       "                                                                   OneHotEncoder(handle_unknown=&#x27;ignore&#x27;))]),\n",
       "                                                  [&#x27;weather&#x27;, &#x27;year&#x27;, &#x27;month&#x27;,\n",
       "                                                   &#x27;day&#x27;, &#x27;hour&#x27;]),\n",
       "                                                 (&#x27;scaling&#x27;,\n",
       "                                                  Pipeline(steps=[(&#x27;minmaxscaler&#x27;,\n",
       "                                                                   MinMaxScaler())]),\n",
       "                                                  [&#x27;temp&#x27;, &#x27;humidity&#x27;,\n",
       "                                                   &#x27;windspeed&#x27;])])),\n",
       "                (&#x27;poly_features&#x27;, PolynomialFeatures(include_bias=False)),\n",
       "                (&#x27;m_rr&#x27;, Ridge(alpha=1))])</pre></div></div></div><div class=\"sk-serial\"><div class=\"sk-item\"><div class=\"sk-serial\"><div class=\"sk-item sk-dashed-wrapped\"><div class=\"sk-label-container\"><div class=\"sk-label sk-toggleable\"><input class=\"sk-toggleable__control sk-hidden--visually\" id=\"sk-estimator-id-221\" type=\"checkbox\" ><label for=\"sk-estimator-id-221\" class=\"sk-toggleable__label sk-toggleable__label-arrow\">preprocessor: ColumnTransformer</label><div class=\"sk-toggleable__content\"><pre>ColumnTransformer(transformers=[(&#x27;do_nothing&#x27;, &#x27;passthrough&#x27;, [&#x27;holiday&#x27;]),\n",
       "                                (&#x27;one_hot_encoding&#x27;,\n",
       "                                 Pipeline(steps=[(&#x27;onehotencoder&#x27;,\n",
       "                                                  OneHotEncoder(handle_unknown=&#x27;ignore&#x27;))]),\n",
       "                                 [&#x27;weather&#x27;, &#x27;year&#x27;, &#x27;month&#x27;, &#x27;day&#x27;, &#x27;hour&#x27;]),\n",
       "                                (&#x27;scaling&#x27;,\n",
       "                                 Pipeline(steps=[(&#x27;minmaxscaler&#x27;,\n",
       "                                                  MinMaxScaler())]),\n",
       "                                 [&#x27;temp&#x27;, &#x27;humidity&#x27;, &#x27;windspeed&#x27;])])</pre></div></div></div><div class=\"sk-parallel\"><div class=\"sk-parallel-item\"><div class=\"sk-item\"><div class=\"sk-label-container\"><div class=\"sk-label sk-toggleable\"><input class=\"sk-toggleable__control sk-hidden--visually\" id=\"sk-estimator-id-222\" type=\"checkbox\" ><label for=\"sk-estimator-id-222\" class=\"sk-toggleable__label sk-toggleable__label-arrow\">do_nothing</label><div class=\"sk-toggleable__content\"><pre>[&#x27;holiday&#x27;]</pre></div></div></div><div class=\"sk-serial\"><div class=\"sk-item\"><div class=\"sk-estimator sk-toggleable\"><input class=\"sk-toggleable__control sk-hidden--visually\" id=\"sk-estimator-id-223\" type=\"checkbox\" ><label for=\"sk-estimator-id-223\" class=\"sk-toggleable__label sk-toggleable__label-arrow\">passthrough</label><div class=\"sk-toggleable__content\"><pre>passthrough</pre></div></div></div></div></div></div><div class=\"sk-parallel-item\"><div class=\"sk-item\"><div class=\"sk-label-container\"><div class=\"sk-label sk-toggleable\"><input class=\"sk-toggleable__control sk-hidden--visually\" id=\"sk-estimator-id-224\" type=\"checkbox\" ><label for=\"sk-estimator-id-224\" class=\"sk-toggleable__label sk-toggleable__label-arrow\">one_hot_encoding</label><div class=\"sk-toggleable__content\"><pre>[&#x27;weather&#x27;, &#x27;year&#x27;, &#x27;month&#x27;, &#x27;day&#x27;, &#x27;hour&#x27;]</pre></div></div></div><div class=\"sk-serial\"><div class=\"sk-item\"><div class=\"sk-serial\"><div class=\"sk-item\"><div class=\"sk-estimator sk-toggleable\"><input class=\"sk-toggleable__control sk-hidden--visually\" id=\"sk-estimator-id-225\" type=\"checkbox\" ><label for=\"sk-estimator-id-225\" class=\"sk-toggleable__label sk-toggleable__label-arrow\">OneHotEncoder</label><div class=\"sk-toggleable__content\"><pre>OneHotEncoder(handle_unknown=&#x27;ignore&#x27;)</pre></div></div></div></div></div></div></div></div><div class=\"sk-parallel-item\"><div class=\"sk-item\"><div class=\"sk-label-container\"><div class=\"sk-label sk-toggleable\"><input class=\"sk-toggleable__control sk-hidden--visually\" id=\"sk-estimator-id-226\" type=\"checkbox\" ><label for=\"sk-estimator-id-226\" class=\"sk-toggleable__label sk-toggleable__label-arrow\">scaling</label><div class=\"sk-toggleable__content\"><pre>[&#x27;temp&#x27;, &#x27;humidity&#x27;, &#x27;windspeed&#x27;]</pre></div></div></div><div class=\"sk-serial\"><div class=\"sk-item\"><div class=\"sk-serial\"><div class=\"sk-item\"><div class=\"sk-estimator sk-toggleable\"><input class=\"sk-toggleable__control sk-hidden--visually\" id=\"sk-estimator-id-227\" type=\"checkbox\" ><label for=\"sk-estimator-id-227\" class=\"sk-toggleable__label sk-toggleable__label-arrow\">MinMaxScaler</label><div class=\"sk-toggleable__content\"><pre>MinMaxScaler()</pre></div></div></div></div></div></div></div></div></div></div><div class=\"sk-item\"><div class=\"sk-estimator sk-toggleable\"><input class=\"sk-toggleable__control sk-hidden--visually\" id=\"sk-estimator-id-228\" type=\"checkbox\" ><label for=\"sk-estimator-id-228\" class=\"sk-toggleable__label sk-toggleable__label-arrow\">PolynomialFeatures</label><div class=\"sk-toggleable__content\"><pre>PolynomialFeatures(include_bias=False)</pre></div></div></div><div class=\"sk-item\"><div class=\"sk-estimator sk-toggleable\"><input class=\"sk-toggleable__control sk-hidden--visually\" id=\"sk-estimator-id-229\" type=\"checkbox\" ><label for=\"sk-estimator-id-229\" class=\"sk-toggleable__label sk-toggleable__label-arrow\">Ridge</label><div class=\"sk-toggleable__content\"><pre>Ridge(alpha=1)</pre></div></div></div></div></div></div></div></div></div></div></div></div></div></div></div></div></div>"
      ],
      "text/plain": [
       "GridSearchCV(cv=5,\n",
       "             estimator=TransformedTargetRegressor(func=<ufunc 'log1p'>,\n",
       "                                                  inverse_func=<ufunc 'expm1'>,\n",
       "                                                  regressor=Pipeline(steps=[('preprocessor',\n",
       "                                                                             ColumnTransformer(transformers=[('do_nothing',\n",
       "                                                                                                              'passthrough',\n",
       "                                                                                                              ['holiday']),\n",
       "                                                                                                             ('one_hot_encoding',\n",
       "                                                                                                              Pipeline(steps=[('onehotencoder',\n",
       "                                                                                                                               OneHotEncoder(handle_unknown='ignore'))]),\n",
       "                                                                                                              ['weather',\n",
       "                                                                                                               'year',\n",
       "                                                                                                               'month',\n",
       "                                                                                                               'day',\n",
       "                                                                                                               'hour...\n",
       "       3.001e+01, 3.051e+01, 3.101e+01, 3.151e+01, 3.201e+01, 3.251e+01,\n",
       "       3.301e+01, 3.351e+01, 3.401e+01, 3.451e+01, 3.501e+01, 3.551e+01,\n",
       "       3.601e+01, 3.651e+01, 3.701e+01, 3.751e+01, 3.801e+01, 3.851e+01,\n",
       "       3.901e+01, 3.951e+01, 4.001e+01, 4.051e+01, 4.101e+01, 4.151e+01,\n",
       "       4.201e+01, 4.251e+01, 4.301e+01, 4.351e+01, 4.401e+01, 4.451e+01,\n",
       "       4.501e+01, 4.551e+01, 4.601e+01, 4.651e+01, 4.701e+01, 4.751e+01,\n",
       "       4.801e+01, 4.851e+01, 4.901e+01, 4.951e+01])})"
      ]
     },
     "execution_count": 162,
     "metadata": {},
     "output_type": "execute_result"
    }
   ],
   "source": [
    "cv_h.fit(X_train,y_train)"
   ]
  },
  {
   "cell_type": "code",
   "execution_count": 163,
   "id": "992a5871-c97b-4f56-8027-26fcada282e2",
   "metadata": {},
   "outputs": [
    {
     "name": "stdout",
     "output_type": "stream",
     "text": [
      "Best:\n",
      "0.739  for  {'regressor__m_rr__alpha': 34.01}\n"
     ]
    }
   ],
   "source": [
    "# Print results of hyperparameter optimization using random search       \n",
    "print_results(cv_h, show_all=False)"
   ]
  },
  {
   "cell_type": "markdown",
   "id": "4da2c699-6ae2-4c8b-886d-0b7a3be501d8",
   "metadata": {},
   "source": [
    "### Lasso Regression"
   ]
  },
  {
   "cell_type": "markdown",
   "id": "7f2f0737-323c-4e44-83c6-5d2c445fa36b",
   "metadata": {},
   "source": [
    "#### Featrure Engineering"
   ]
  },
  {
   "cell_type": "markdown",
   "id": "ad2ebc55-85e2-4363-bb79-b09cd6ea52da",
   "metadata": {},
   "source": [
    "same as linear regression"
   ]
  },
  {
   "cell_type": "markdown",
   "id": "e125eb66-eae6-431a-b8d7-bc6f7c6bcbd1",
   "metadata": {},
   "source": [
    "#### Create Model"
   ]
  },
  {
   "cell_type": "code",
   "execution_count": 233,
   "id": "5349d88c-1442-43c2-8004-e43dc1519cc9",
   "metadata": {},
   "outputs": [],
   "source": [
    "lar = Pipeline([\n",
    "    ('preprocessor', feature_transform),\n",
    "    ('poly_features', PolynomialFeatures(degree=2, \n",
    "                                        include_bias=False,\n",
    "                                        interaction_only=False)),\n",
    "    ('m_lar', Lasso(alpha=0.001,max_iter=10000))\n",
    "])\n",
    "# Do target transformation\n",
    "lar_t = TransformedTargetRegressor(regressor=lar, func=np.log1p, inverse_func=np.expm1)"
   ]
  },
  {
   "cell_type": "code",
   "execution_count": 234,
   "id": "4af533b8-20ab-4591-96e8-baf215ac3f7b",
   "metadata": {},
   "outputs": [
    {
     "data": {
      "text/html": [
       "<style>#sk-container-id-42 {color: black;background-color: white;}#sk-container-id-42 pre{padding: 0;}#sk-container-id-42 div.sk-toggleable {background-color: white;}#sk-container-id-42 label.sk-toggleable__label {cursor: pointer;display: block;width: 100%;margin-bottom: 0;padding: 0.3em;box-sizing: border-box;text-align: center;}#sk-container-id-42 label.sk-toggleable__label-arrow:before {content: \"▸\";float: left;margin-right: 0.25em;color: #696969;}#sk-container-id-42 label.sk-toggleable__label-arrow:hover:before {color: black;}#sk-container-id-42 div.sk-estimator:hover label.sk-toggleable__label-arrow:before {color: black;}#sk-container-id-42 div.sk-toggleable__content {max-height: 0;max-width: 0;overflow: hidden;text-align: left;background-color: #f0f8ff;}#sk-container-id-42 div.sk-toggleable__content pre {margin: 0.2em;color: black;border-radius: 0.25em;background-color: #f0f8ff;}#sk-container-id-42 input.sk-toggleable__control:checked~div.sk-toggleable__content {max-height: 200px;max-width: 100%;overflow: auto;}#sk-container-id-42 input.sk-toggleable__control:checked~label.sk-toggleable__label-arrow:before {content: \"▾\";}#sk-container-id-42 div.sk-estimator input.sk-toggleable__control:checked~label.sk-toggleable__label {background-color: #d4ebff;}#sk-container-id-42 div.sk-label input.sk-toggleable__control:checked~label.sk-toggleable__label {background-color: #d4ebff;}#sk-container-id-42 input.sk-hidden--visually {border: 0;clip: rect(1px 1px 1px 1px);clip: rect(1px, 1px, 1px, 1px);height: 1px;margin: -1px;overflow: hidden;padding: 0;position: absolute;width: 1px;}#sk-container-id-42 div.sk-estimator {font-family: monospace;background-color: #f0f8ff;border: 1px dotted black;border-radius: 0.25em;box-sizing: border-box;margin-bottom: 0.5em;}#sk-container-id-42 div.sk-estimator:hover {background-color: #d4ebff;}#sk-container-id-42 div.sk-parallel-item::after {content: \"\";width: 100%;border-bottom: 1px solid gray;flex-grow: 1;}#sk-container-id-42 div.sk-label:hover label.sk-toggleable__label {background-color: #d4ebff;}#sk-container-id-42 div.sk-serial::before {content: \"\";position: absolute;border-left: 1px solid gray;box-sizing: border-box;top: 0;bottom: 0;left: 50%;z-index: 0;}#sk-container-id-42 div.sk-serial {display: flex;flex-direction: column;align-items: center;background-color: white;padding-right: 0.2em;padding-left: 0.2em;position: relative;}#sk-container-id-42 div.sk-item {position: relative;z-index: 1;}#sk-container-id-42 div.sk-parallel {display: flex;align-items: stretch;justify-content: center;background-color: white;position: relative;}#sk-container-id-42 div.sk-item::before, #sk-container-id-42 div.sk-parallel-item::before {content: \"\";position: absolute;border-left: 1px solid gray;box-sizing: border-box;top: 0;bottom: 0;left: 50%;z-index: -1;}#sk-container-id-42 div.sk-parallel-item {display: flex;flex-direction: column;z-index: 1;position: relative;background-color: white;}#sk-container-id-42 div.sk-parallel-item:first-child::after {align-self: flex-end;width: 50%;}#sk-container-id-42 div.sk-parallel-item:last-child::after {align-self: flex-start;width: 50%;}#sk-container-id-42 div.sk-parallel-item:only-child::after {width: 0;}#sk-container-id-42 div.sk-dashed-wrapped {border: 1px dashed gray;margin: 0 0.4em 0.5em 0.4em;box-sizing: border-box;padding-bottom: 0.4em;background-color: white;}#sk-container-id-42 div.sk-label label {font-family: monospace;font-weight: bold;display: inline-block;line-height: 1.2em;}#sk-container-id-42 div.sk-label-container {text-align: center;}#sk-container-id-42 div.sk-container {/* jupyter's `normalize.less` sets `[hidden] { display: none; }` but bootstrap.min.css set `[hidden] { display: none !important; }` so we also need the `!important` here to be able to override the default hidden behavior on the sphinx rendered scikit-learn.org. See: https://github.com/scikit-learn/scikit-learn/issues/21755 */display: inline-block !important;position: relative;}#sk-container-id-42 div.sk-text-repr-fallback {display: none;}</style><div id=\"sk-container-id-42\" class=\"sk-top-container\"><div class=\"sk-text-repr-fallback\"><pre>TransformedTargetRegressor(func=&lt;ufunc &#x27;log1p&#x27;&gt;, inverse_func=&lt;ufunc &#x27;expm1&#x27;&gt;,\n",
       "                           regressor=Pipeline(steps=[(&#x27;preprocessor&#x27;,\n",
       "                                                      ColumnTransformer(transformers=[(&#x27;do_nothing&#x27;,\n",
       "                                                                                       &#x27;passthrough&#x27;,\n",
       "                                                                                       [&#x27;holiday&#x27;]),\n",
       "                                                                                      (&#x27;one_hot_encoding&#x27;,\n",
       "                                                                                       Pipeline(steps=[(&#x27;onehotencoder&#x27;,\n",
       "                                                                                                        OneHotEncoder(handle_unknown=&#x27;ignore&#x27;))]),\n",
       "                                                                                       [&#x27;weather&#x27;,\n",
       "                                                                                        &#x27;year&#x27;,\n",
       "                                                                                        &#x27;month&#x27;,\n",
       "                                                                                        &#x27;day&#x27;,\n",
       "                                                                                        &#x27;hour&#x27;]),\n",
       "                                                                                      (&#x27;scaling&#x27;,\n",
       "                                                                                       Pipeline(steps=[(&#x27;minmaxscaler&#x27;,\n",
       "                                                                                                        MinMaxScaler())]),\n",
       "                                                                                       [&#x27;temp&#x27;,\n",
       "                                                                                        &#x27;humidity&#x27;,\n",
       "                                                                                        &#x27;windspeed&#x27;])])),\n",
       "                                                     (&#x27;poly_features&#x27;,\n",
       "                                                      PolynomialFeatures(include_bias=False)),\n",
       "                                                     (&#x27;m_lar&#x27;,\n",
       "                                                      Lasso(alpha=0.001,\n",
       "                                                            max_iter=10000))]))</pre><b>In a Jupyter environment, please rerun this cell to show the HTML representation or trust the notebook. <br />On GitHub, the HTML representation is unable to render, please try loading this page with nbviewer.org.</b></div><div class=\"sk-container\" hidden><div class=\"sk-item sk-dashed-wrapped\"><div class=\"sk-label-container\"><div class=\"sk-label sk-toggleable\"><input class=\"sk-toggleable__control sk-hidden--visually\" id=\"sk-estimator-id-442\" type=\"checkbox\" ><label for=\"sk-estimator-id-442\" class=\"sk-toggleable__label sk-toggleable__label-arrow\">TransformedTargetRegressor</label><div class=\"sk-toggleable__content\"><pre>TransformedTargetRegressor(func=&lt;ufunc &#x27;log1p&#x27;&gt;, inverse_func=&lt;ufunc &#x27;expm1&#x27;&gt;,\n",
       "                           regressor=Pipeline(steps=[(&#x27;preprocessor&#x27;,\n",
       "                                                      ColumnTransformer(transformers=[(&#x27;do_nothing&#x27;,\n",
       "                                                                                       &#x27;passthrough&#x27;,\n",
       "                                                                                       [&#x27;holiday&#x27;]),\n",
       "                                                                                      (&#x27;one_hot_encoding&#x27;,\n",
       "                                                                                       Pipeline(steps=[(&#x27;onehotencoder&#x27;,\n",
       "                                                                                                        OneHotEncoder(handle_unknown=&#x27;ignore&#x27;))]),\n",
       "                                                                                       [&#x27;weather&#x27;,\n",
       "                                                                                        &#x27;year&#x27;,\n",
       "                                                                                        &#x27;month&#x27;,\n",
       "                                                                                        &#x27;day&#x27;,\n",
       "                                                                                        &#x27;hour&#x27;]),\n",
       "                                                                                      (&#x27;scaling&#x27;,\n",
       "                                                                                       Pipeline(steps=[(&#x27;minmaxscaler&#x27;,\n",
       "                                                                                                        MinMaxScaler())]),\n",
       "                                                                                       [&#x27;temp&#x27;,\n",
       "                                                                                        &#x27;humidity&#x27;,\n",
       "                                                                                        &#x27;windspeed&#x27;])])),\n",
       "                                                     (&#x27;poly_features&#x27;,\n",
       "                                                      PolynomialFeatures(include_bias=False)),\n",
       "                                                     (&#x27;m_lar&#x27;,\n",
       "                                                      Lasso(alpha=0.001,\n",
       "                                                            max_iter=10000))]))</pre></div></div></div><div class=\"sk-parallel\"><div class=\"sk-parallel-item\"><div class=\"sk-item\"><div class=\"sk-label-container\"><div class=\"sk-label sk-toggleable\"><input class=\"sk-toggleable__control sk-hidden--visually\" id=\"sk-estimator-id-443\" type=\"checkbox\" ><label for=\"sk-estimator-id-443\" class=\"sk-toggleable__label sk-toggleable__label-arrow\">regressor: Pipeline</label><div class=\"sk-toggleable__content\"><pre>Pipeline(steps=[(&#x27;preprocessor&#x27;,\n",
       "                 ColumnTransformer(transformers=[(&#x27;do_nothing&#x27;, &#x27;passthrough&#x27;,\n",
       "                                                  [&#x27;holiday&#x27;]),\n",
       "                                                 (&#x27;one_hot_encoding&#x27;,\n",
       "                                                  Pipeline(steps=[(&#x27;onehotencoder&#x27;,\n",
       "                                                                   OneHotEncoder(handle_unknown=&#x27;ignore&#x27;))]),\n",
       "                                                  [&#x27;weather&#x27;, &#x27;year&#x27;, &#x27;month&#x27;,\n",
       "                                                   &#x27;day&#x27;, &#x27;hour&#x27;]),\n",
       "                                                 (&#x27;scaling&#x27;,\n",
       "                                                  Pipeline(steps=[(&#x27;minmaxscaler&#x27;,\n",
       "                                                                   MinMaxScaler())]),\n",
       "                                                  [&#x27;temp&#x27;, &#x27;humidity&#x27;,\n",
       "                                                   &#x27;windspeed&#x27;])])),\n",
       "                (&#x27;poly_features&#x27;, PolynomialFeatures(include_bias=False)),\n",
       "                (&#x27;m_lar&#x27;, Lasso(alpha=0.001, max_iter=10000))])</pre></div></div></div><div class=\"sk-serial\"><div class=\"sk-item\"><div class=\"sk-serial\"><div class=\"sk-item sk-dashed-wrapped\"><div class=\"sk-label-container\"><div class=\"sk-label sk-toggleable\"><input class=\"sk-toggleable__control sk-hidden--visually\" id=\"sk-estimator-id-444\" type=\"checkbox\" ><label for=\"sk-estimator-id-444\" class=\"sk-toggleable__label sk-toggleable__label-arrow\">preprocessor: ColumnTransformer</label><div class=\"sk-toggleable__content\"><pre>ColumnTransformer(transformers=[(&#x27;do_nothing&#x27;, &#x27;passthrough&#x27;, [&#x27;holiday&#x27;]),\n",
       "                                (&#x27;one_hot_encoding&#x27;,\n",
       "                                 Pipeline(steps=[(&#x27;onehotencoder&#x27;,\n",
       "                                                  OneHotEncoder(handle_unknown=&#x27;ignore&#x27;))]),\n",
       "                                 [&#x27;weather&#x27;, &#x27;year&#x27;, &#x27;month&#x27;, &#x27;day&#x27;, &#x27;hour&#x27;]),\n",
       "                                (&#x27;scaling&#x27;,\n",
       "                                 Pipeline(steps=[(&#x27;minmaxscaler&#x27;,\n",
       "                                                  MinMaxScaler())]),\n",
       "                                 [&#x27;temp&#x27;, &#x27;humidity&#x27;, &#x27;windspeed&#x27;])])</pre></div></div></div><div class=\"sk-parallel\"><div class=\"sk-parallel-item\"><div class=\"sk-item\"><div class=\"sk-label-container\"><div class=\"sk-label sk-toggleable\"><input class=\"sk-toggleable__control sk-hidden--visually\" id=\"sk-estimator-id-445\" type=\"checkbox\" ><label for=\"sk-estimator-id-445\" class=\"sk-toggleable__label sk-toggleable__label-arrow\">do_nothing</label><div class=\"sk-toggleable__content\"><pre>[&#x27;holiday&#x27;]</pre></div></div></div><div class=\"sk-serial\"><div class=\"sk-item\"><div class=\"sk-estimator sk-toggleable\"><input class=\"sk-toggleable__control sk-hidden--visually\" id=\"sk-estimator-id-446\" type=\"checkbox\" ><label for=\"sk-estimator-id-446\" class=\"sk-toggleable__label sk-toggleable__label-arrow\">passthrough</label><div class=\"sk-toggleable__content\"><pre>passthrough</pre></div></div></div></div></div></div><div class=\"sk-parallel-item\"><div class=\"sk-item\"><div class=\"sk-label-container\"><div class=\"sk-label sk-toggleable\"><input class=\"sk-toggleable__control sk-hidden--visually\" id=\"sk-estimator-id-447\" type=\"checkbox\" ><label for=\"sk-estimator-id-447\" class=\"sk-toggleable__label sk-toggleable__label-arrow\">one_hot_encoding</label><div class=\"sk-toggleable__content\"><pre>[&#x27;weather&#x27;, &#x27;year&#x27;, &#x27;month&#x27;, &#x27;day&#x27;, &#x27;hour&#x27;]</pre></div></div></div><div class=\"sk-serial\"><div class=\"sk-item\"><div class=\"sk-serial\"><div class=\"sk-item\"><div class=\"sk-estimator sk-toggleable\"><input class=\"sk-toggleable__control sk-hidden--visually\" id=\"sk-estimator-id-448\" type=\"checkbox\" ><label for=\"sk-estimator-id-448\" class=\"sk-toggleable__label sk-toggleable__label-arrow\">OneHotEncoder</label><div class=\"sk-toggleable__content\"><pre>OneHotEncoder(handle_unknown=&#x27;ignore&#x27;)</pre></div></div></div></div></div></div></div></div><div class=\"sk-parallel-item\"><div class=\"sk-item\"><div class=\"sk-label-container\"><div class=\"sk-label sk-toggleable\"><input class=\"sk-toggleable__control sk-hidden--visually\" id=\"sk-estimator-id-449\" type=\"checkbox\" ><label for=\"sk-estimator-id-449\" class=\"sk-toggleable__label sk-toggleable__label-arrow\">scaling</label><div class=\"sk-toggleable__content\"><pre>[&#x27;temp&#x27;, &#x27;humidity&#x27;, &#x27;windspeed&#x27;]</pre></div></div></div><div class=\"sk-serial\"><div class=\"sk-item\"><div class=\"sk-serial\"><div class=\"sk-item\"><div class=\"sk-estimator sk-toggleable\"><input class=\"sk-toggleable__control sk-hidden--visually\" id=\"sk-estimator-id-450\" type=\"checkbox\" ><label for=\"sk-estimator-id-450\" class=\"sk-toggleable__label sk-toggleable__label-arrow\">MinMaxScaler</label><div class=\"sk-toggleable__content\"><pre>MinMaxScaler()</pre></div></div></div></div></div></div></div></div></div></div><div class=\"sk-item\"><div class=\"sk-estimator sk-toggleable\"><input class=\"sk-toggleable__control sk-hidden--visually\" id=\"sk-estimator-id-451\" type=\"checkbox\" ><label for=\"sk-estimator-id-451\" class=\"sk-toggleable__label sk-toggleable__label-arrow\">PolynomialFeatures</label><div class=\"sk-toggleable__content\"><pre>PolynomialFeatures(include_bias=False)</pre></div></div></div><div class=\"sk-item\"><div class=\"sk-estimator sk-toggleable\"><input class=\"sk-toggleable__control sk-hidden--visually\" id=\"sk-estimator-id-452\" type=\"checkbox\" ><label for=\"sk-estimator-id-452\" class=\"sk-toggleable__label sk-toggleable__label-arrow\">Lasso</label><div class=\"sk-toggleable__content\"><pre>Lasso(alpha=0.001, max_iter=10000)</pre></div></div></div></div></div></div></div></div></div></div></div></div>"
      ],
      "text/plain": [
       "TransformedTargetRegressor(func=<ufunc 'log1p'>, inverse_func=<ufunc 'expm1'>,\n",
       "                           regressor=Pipeline(steps=[('preprocessor',\n",
       "                                                      ColumnTransformer(transformers=[('do_nothing',\n",
       "                                                                                       'passthrough',\n",
       "                                                                                       ['holiday']),\n",
       "                                                                                      ('one_hot_encoding',\n",
       "                                                                                       Pipeline(steps=[('onehotencoder',\n",
       "                                                                                                        OneHotEncoder(handle_unknown='ignore'))]),\n",
       "                                                                                       ['weather',\n",
       "                                                                                        'year',\n",
       "                                                                                        'month',\n",
       "                                                                                        'day',\n",
       "                                                                                        'hour']),\n",
       "                                                                                      ('scaling',\n",
       "                                                                                       Pipeline(steps=[('minmaxscaler',\n",
       "                                                                                                        MinMaxScaler())]),\n",
       "                                                                                       ['temp',\n",
       "                                                                                        'humidity',\n",
       "                                                                                        'windspeed'])])),\n",
       "                                                     ('poly_features',\n",
       "                                                      PolynomialFeatures(include_bias=False)),\n",
       "                                                     ('m_lar',\n",
       "                                                      Lasso(alpha=0.001,\n",
       "                                                            max_iter=10000))]))"
      ]
     },
     "execution_count": 234,
     "metadata": {},
     "output_type": "execute_result"
    }
   ],
   "source": [
    "lar_t.fit(X_train,y_train)"
   ]
  },
  {
   "cell_type": "markdown",
   "id": "05623d27-ceda-4fe5-acd9-4092d6e6c19d",
   "metadata": {},
   "source": [
    "#### Evaluate Model"
   ]
  },
  {
   "cell_type": "code",
   "execution_count": 235,
   "id": "4b3b7c6d-4379-4f6e-a547-1dee93494349",
   "metadata": {},
   "outputs": [
    {
     "name": "stdout",
     "output_type": "stream",
     "text": [
      "R2 train : 0.76\n",
      "R2 test: 0.73\n",
      "\n",
      "\n",
      "RMSLE train: 0.56\n",
      "RMSLE test: 0.59\n"
     ]
    }
   ],
   "source": [
    "print_evaluation_metrics(lar_t,X_train,y_train,X_test,y_test)"
   ]
  },
  {
   "cell_type": "markdown",
   "id": "9d99137a-d670-4e2f-aada-06ceb858b0f9",
   "metadata": {
    "tags": []
   },
   "source": [
    "#### Tune Hyperparameters"
   ]
  },
  {
   "cell_type": "code",
   "execution_count": 236,
   "id": "56a0d597-3012-4a02-aa21-8e209569ca1d",
   "metadata": {},
   "outputs": [
    {
     "data": {
      "text/plain": [
       "dict_keys(['check_inverse', 'func', 'inverse_func', 'regressor__memory', 'regressor__steps', 'regressor__verbose', 'regressor__preprocessor', 'regressor__poly_features', 'regressor__m_lar', 'regressor__preprocessor__n_jobs', 'regressor__preprocessor__remainder', 'regressor__preprocessor__sparse_threshold', 'regressor__preprocessor__transformer_weights', 'regressor__preprocessor__transformers', 'regressor__preprocessor__verbose', 'regressor__preprocessor__verbose_feature_names_out', 'regressor__preprocessor__do_nothing', 'regressor__preprocessor__one_hot_encoding', 'regressor__preprocessor__scaling', 'regressor__preprocessor__one_hot_encoding__memory', 'regressor__preprocessor__one_hot_encoding__steps', 'regressor__preprocessor__one_hot_encoding__verbose', 'regressor__preprocessor__one_hot_encoding__onehotencoder', 'regressor__preprocessor__one_hot_encoding__onehotencoder__categories', 'regressor__preprocessor__one_hot_encoding__onehotencoder__drop', 'regressor__preprocessor__one_hot_encoding__onehotencoder__dtype', 'regressor__preprocessor__one_hot_encoding__onehotencoder__handle_unknown', 'regressor__preprocessor__one_hot_encoding__onehotencoder__max_categories', 'regressor__preprocessor__one_hot_encoding__onehotencoder__min_frequency', 'regressor__preprocessor__one_hot_encoding__onehotencoder__sparse', 'regressor__preprocessor__scaling__memory', 'regressor__preprocessor__scaling__steps', 'regressor__preprocessor__scaling__verbose', 'regressor__preprocessor__scaling__minmaxscaler', 'regressor__preprocessor__scaling__minmaxscaler__clip', 'regressor__preprocessor__scaling__minmaxscaler__copy', 'regressor__preprocessor__scaling__minmaxscaler__feature_range', 'regressor__poly_features__degree', 'regressor__poly_features__include_bias', 'regressor__poly_features__interaction_only', 'regressor__poly_features__order', 'regressor__m_lar__alpha', 'regressor__m_lar__copy_X', 'regressor__m_lar__fit_intercept', 'regressor__m_lar__max_iter', 'regressor__m_lar__normalize', 'regressor__m_lar__positive', 'regressor__m_lar__precompute', 'regressor__m_lar__random_state', 'regressor__m_lar__selection', 'regressor__m_lar__tol', 'regressor__m_lar__warm_start', 'regressor', 'transformer'])"
      ]
     },
     "execution_count": 236,
     "metadata": {},
     "output_type": "execute_result"
    }
   ],
   "source": [
    "# get list of hyperparameters\n",
    "lar_t.get_params().keys()"
   ]
  },
  {
   "cell_type": "code",
   "execution_count": 237,
   "id": "6cdc6c8b-5362-4401-a9a5-b203707c35b3",
   "metadata": {},
   "outputs": [],
   "source": [
    "parameters = {'regressor__m_lar__alpha': np.arange(1e-4,5e-3,1e-5)}"
   ]
  },
  {
   "cell_type": "code",
   "execution_count": 238,
   "id": "3456efa4-929d-4195-8c42-d58cf2531671",
   "metadata": {},
   "outputs": [],
   "source": [
    "cv_h =  GridSearchCV(estimator=lar_t,param_grid=parameters,cv=5,n_jobs=-1)"
   ]
  },
  {
   "cell_type": "code",
   "execution_count": 239,
   "id": "e5ed5cb4-79cd-4650-a39c-01bb96e9d649",
   "metadata": {},
   "outputs": [
    {
     "data": {
      "text/html": [
       "<style>#sk-container-id-43 {color: black;background-color: white;}#sk-container-id-43 pre{padding: 0;}#sk-container-id-43 div.sk-toggleable {background-color: white;}#sk-container-id-43 label.sk-toggleable__label {cursor: pointer;display: block;width: 100%;margin-bottom: 0;padding: 0.3em;box-sizing: border-box;text-align: center;}#sk-container-id-43 label.sk-toggleable__label-arrow:before {content: \"▸\";float: left;margin-right: 0.25em;color: #696969;}#sk-container-id-43 label.sk-toggleable__label-arrow:hover:before {color: black;}#sk-container-id-43 div.sk-estimator:hover label.sk-toggleable__label-arrow:before {color: black;}#sk-container-id-43 div.sk-toggleable__content {max-height: 0;max-width: 0;overflow: hidden;text-align: left;background-color: #f0f8ff;}#sk-container-id-43 div.sk-toggleable__content pre {margin: 0.2em;color: black;border-radius: 0.25em;background-color: #f0f8ff;}#sk-container-id-43 input.sk-toggleable__control:checked~div.sk-toggleable__content {max-height: 200px;max-width: 100%;overflow: auto;}#sk-container-id-43 input.sk-toggleable__control:checked~label.sk-toggleable__label-arrow:before {content: \"▾\";}#sk-container-id-43 div.sk-estimator input.sk-toggleable__control:checked~label.sk-toggleable__label {background-color: #d4ebff;}#sk-container-id-43 div.sk-label input.sk-toggleable__control:checked~label.sk-toggleable__label {background-color: #d4ebff;}#sk-container-id-43 input.sk-hidden--visually {border: 0;clip: rect(1px 1px 1px 1px);clip: rect(1px, 1px, 1px, 1px);height: 1px;margin: -1px;overflow: hidden;padding: 0;position: absolute;width: 1px;}#sk-container-id-43 div.sk-estimator {font-family: monospace;background-color: #f0f8ff;border: 1px dotted black;border-radius: 0.25em;box-sizing: border-box;margin-bottom: 0.5em;}#sk-container-id-43 div.sk-estimator:hover {background-color: #d4ebff;}#sk-container-id-43 div.sk-parallel-item::after {content: \"\";width: 100%;border-bottom: 1px solid gray;flex-grow: 1;}#sk-container-id-43 div.sk-label:hover label.sk-toggleable__label {background-color: #d4ebff;}#sk-container-id-43 div.sk-serial::before {content: \"\";position: absolute;border-left: 1px solid gray;box-sizing: border-box;top: 0;bottom: 0;left: 50%;z-index: 0;}#sk-container-id-43 div.sk-serial {display: flex;flex-direction: column;align-items: center;background-color: white;padding-right: 0.2em;padding-left: 0.2em;position: relative;}#sk-container-id-43 div.sk-item {position: relative;z-index: 1;}#sk-container-id-43 div.sk-parallel {display: flex;align-items: stretch;justify-content: center;background-color: white;position: relative;}#sk-container-id-43 div.sk-item::before, #sk-container-id-43 div.sk-parallel-item::before {content: \"\";position: absolute;border-left: 1px solid gray;box-sizing: border-box;top: 0;bottom: 0;left: 50%;z-index: -1;}#sk-container-id-43 div.sk-parallel-item {display: flex;flex-direction: column;z-index: 1;position: relative;background-color: white;}#sk-container-id-43 div.sk-parallel-item:first-child::after {align-self: flex-end;width: 50%;}#sk-container-id-43 div.sk-parallel-item:last-child::after {align-self: flex-start;width: 50%;}#sk-container-id-43 div.sk-parallel-item:only-child::after {width: 0;}#sk-container-id-43 div.sk-dashed-wrapped {border: 1px dashed gray;margin: 0 0.4em 0.5em 0.4em;box-sizing: border-box;padding-bottom: 0.4em;background-color: white;}#sk-container-id-43 div.sk-label label {font-family: monospace;font-weight: bold;display: inline-block;line-height: 1.2em;}#sk-container-id-43 div.sk-label-container {text-align: center;}#sk-container-id-43 div.sk-container {/* jupyter's `normalize.less` sets `[hidden] { display: none; }` but bootstrap.min.css set `[hidden] { display: none !important; }` so we also need the `!important` here to be able to override the default hidden behavior on the sphinx rendered scikit-learn.org. See: https://github.com/scikit-learn/scikit-learn/issues/21755 */display: inline-block !important;position: relative;}#sk-container-id-43 div.sk-text-repr-fallback {display: none;}</style><div id=\"sk-container-id-43\" class=\"sk-top-container\"><div class=\"sk-text-repr-fallback\"><pre>GridSearchCV(cv=5,\n",
       "             estimator=TransformedTargetRegressor(func=&lt;ufunc &#x27;log1p&#x27;&gt;,\n",
       "                                                  inverse_func=&lt;ufunc &#x27;expm1&#x27;&gt;,\n",
       "                                                  regressor=Pipeline(steps=[(&#x27;preprocessor&#x27;,\n",
       "                                                                             ColumnTransformer(transformers=[(&#x27;do_nothing&#x27;,\n",
       "                                                                                                              &#x27;passthrough&#x27;,\n",
       "                                                                                                              [&#x27;holiday&#x27;]),\n",
       "                                                                                                             (&#x27;one_hot_encoding&#x27;,\n",
       "                                                                                                              Pipeline(steps=[(&#x27;onehotencoder&#x27;,\n",
       "                                                                                                                               OneHotEncoder(handle_unknown=&#x27;ignore&#x27;))]),\n",
       "                                                                                                              [&#x27;weather&#x27;,\n",
       "                                                                                                               &#x27;year&#x27;,\n",
       "                                                                                                               &#x27;month&#x27;,\n",
       "                                                                                                               &#x27;day&#x27;,\n",
       "                                                                                                               &#x27;hour...\n",
       "       0.00451, 0.00452, 0.00453, 0.00454, 0.00455, 0.00456, 0.00457,\n",
       "       0.00458, 0.00459, 0.0046 , 0.00461, 0.00462, 0.00463, 0.00464,\n",
       "       0.00465, 0.00466, 0.00467, 0.00468, 0.00469, 0.0047 , 0.00471,\n",
       "       0.00472, 0.00473, 0.00474, 0.00475, 0.00476, 0.00477, 0.00478,\n",
       "       0.00479, 0.0048 , 0.00481, 0.00482, 0.00483, 0.00484, 0.00485,\n",
       "       0.00486, 0.00487, 0.00488, 0.00489, 0.0049 , 0.00491, 0.00492,\n",
       "       0.00493, 0.00494, 0.00495, 0.00496, 0.00497, 0.00498, 0.00499])})</pre><b>In a Jupyter environment, please rerun this cell to show the HTML representation or trust the notebook. <br />On GitHub, the HTML representation is unable to render, please try loading this page with nbviewer.org.</b></div><div class=\"sk-container\" hidden><div class=\"sk-item sk-dashed-wrapped\"><div class=\"sk-label-container\"><div class=\"sk-label sk-toggleable\"><input class=\"sk-toggleable__control sk-hidden--visually\" id=\"sk-estimator-id-453\" type=\"checkbox\" ><label for=\"sk-estimator-id-453\" class=\"sk-toggleable__label sk-toggleable__label-arrow\">GridSearchCV</label><div class=\"sk-toggleable__content\"><pre>GridSearchCV(cv=5,\n",
       "             estimator=TransformedTargetRegressor(func=&lt;ufunc &#x27;log1p&#x27;&gt;,\n",
       "                                                  inverse_func=&lt;ufunc &#x27;expm1&#x27;&gt;,\n",
       "                                                  regressor=Pipeline(steps=[(&#x27;preprocessor&#x27;,\n",
       "                                                                             ColumnTransformer(transformers=[(&#x27;do_nothing&#x27;,\n",
       "                                                                                                              &#x27;passthrough&#x27;,\n",
       "                                                                                                              [&#x27;holiday&#x27;]),\n",
       "                                                                                                             (&#x27;one_hot_encoding&#x27;,\n",
       "                                                                                                              Pipeline(steps=[(&#x27;onehotencoder&#x27;,\n",
       "                                                                                                                               OneHotEncoder(handle_unknown=&#x27;ignore&#x27;))]),\n",
       "                                                                                                              [&#x27;weather&#x27;,\n",
       "                                                                                                               &#x27;year&#x27;,\n",
       "                                                                                                               &#x27;month&#x27;,\n",
       "                                                                                                               &#x27;day&#x27;,\n",
       "                                                                                                               &#x27;hour...\n",
       "       0.00451, 0.00452, 0.00453, 0.00454, 0.00455, 0.00456, 0.00457,\n",
       "       0.00458, 0.00459, 0.0046 , 0.00461, 0.00462, 0.00463, 0.00464,\n",
       "       0.00465, 0.00466, 0.00467, 0.00468, 0.00469, 0.0047 , 0.00471,\n",
       "       0.00472, 0.00473, 0.00474, 0.00475, 0.00476, 0.00477, 0.00478,\n",
       "       0.00479, 0.0048 , 0.00481, 0.00482, 0.00483, 0.00484, 0.00485,\n",
       "       0.00486, 0.00487, 0.00488, 0.00489, 0.0049 , 0.00491, 0.00492,\n",
       "       0.00493, 0.00494, 0.00495, 0.00496, 0.00497, 0.00498, 0.00499])})</pre></div></div></div><div class=\"sk-parallel\"><div class=\"sk-parallel-item\"><div class=\"sk-item\"><div class=\"sk-label-container\"><div class=\"sk-label sk-toggleable\"><input class=\"sk-toggleable__control sk-hidden--visually\" id=\"sk-estimator-id-454\" type=\"checkbox\" ><label for=\"sk-estimator-id-454\" class=\"sk-toggleable__label sk-toggleable__label-arrow\">estimator: TransformedTargetRegressor</label><div class=\"sk-toggleable__content\"><pre>TransformedTargetRegressor(func=&lt;ufunc &#x27;log1p&#x27;&gt;, inverse_func=&lt;ufunc &#x27;expm1&#x27;&gt;,\n",
       "                           regressor=Pipeline(steps=[(&#x27;preprocessor&#x27;,\n",
       "                                                      ColumnTransformer(transformers=[(&#x27;do_nothing&#x27;,\n",
       "                                                                                       &#x27;passthrough&#x27;,\n",
       "                                                                                       [&#x27;holiday&#x27;]),\n",
       "                                                                                      (&#x27;one_hot_encoding&#x27;,\n",
       "                                                                                       Pipeline(steps=[(&#x27;onehotencoder&#x27;,\n",
       "                                                                                                        OneHotEncoder(handle_unknown=&#x27;ignore&#x27;))]),\n",
       "                                                                                       [&#x27;weather&#x27;,\n",
       "                                                                                        &#x27;year&#x27;,\n",
       "                                                                                        &#x27;month&#x27;,\n",
       "                                                                                        &#x27;day&#x27;,\n",
       "                                                                                        &#x27;hour&#x27;]),\n",
       "                                                                                      (&#x27;scaling&#x27;,\n",
       "                                                                                       Pipeline(steps=[(&#x27;minmaxscaler&#x27;,\n",
       "                                                                                                        MinMaxScaler())]),\n",
       "                                                                                       [&#x27;temp&#x27;,\n",
       "                                                                                        &#x27;humidity&#x27;,\n",
       "                                                                                        &#x27;windspeed&#x27;])])),\n",
       "                                                     (&#x27;poly_features&#x27;,\n",
       "                                                      PolynomialFeatures(include_bias=False)),\n",
       "                                                     (&#x27;m_lar&#x27;,\n",
       "                                                      Lasso(alpha=0.001,\n",
       "                                                            max_iter=10000))]))</pre></div></div></div><div class=\"sk-serial\"><div class=\"sk-item sk-dashed-wrapped\"><div class=\"sk-parallel\"><div class=\"sk-parallel-item\"><div class=\"sk-item\"><div class=\"sk-label-container\"><div class=\"sk-label sk-toggleable\"><input class=\"sk-toggleable__control sk-hidden--visually\" id=\"sk-estimator-id-455\" type=\"checkbox\" ><label for=\"sk-estimator-id-455\" class=\"sk-toggleable__label sk-toggleable__label-arrow\">regressor: Pipeline</label><div class=\"sk-toggleable__content\"><pre>Pipeline(steps=[(&#x27;preprocessor&#x27;,\n",
       "                 ColumnTransformer(transformers=[(&#x27;do_nothing&#x27;, &#x27;passthrough&#x27;,\n",
       "                                                  [&#x27;holiday&#x27;]),\n",
       "                                                 (&#x27;one_hot_encoding&#x27;,\n",
       "                                                  Pipeline(steps=[(&#x27;onehotencoder&#x27;,\n",
       "                                                                   OneHotEncoder(handle_unknown=&#x27;ignore&#x27;))]),\n",
       "                                                  [&#x27;weather&#x27;, &#x27;year&#x27;, &#x27;month&#x27;,\n",
       "                                                   &#x27;day&#x27;, &#x27;hour&#x27;]),\n",
       "                                                 (&#x27;scaling&#x27;,\n",
       "                                                  Pipeline(steps=[(&#x27;minmaxscaler&#x27;,\n",
       "                                                                   MinMaxScaler())]),\n",
       "                                                  [&#x27;temp&#x27;, &#x27;humidity&#x27;,\n",
       "                                                   &#x27;windspeed&#x27;])])),\n",
       "                (&#x27;poly_features&#x27;, PolynomialFeatures(include_bias=False)),\n",
       "                (&#x27;m_lar&#x27;, Lasso(alpha=0.001, max_iter=10000))])</pre></div></div></div><div class=\"sk-serial\"><div class=\"sk-item\"><div class=\"sk-serial\"><div class=\"sk-item sk-dashed-wrapped\"><div class=\"sk-label-container\"><div class=\"sk-label sk-toggleable\"><input class=\"sk-toggleable__control sk-hidden--visually\" id=\"sk-estimator-id-456\" type=\"checkbox\" ><label for=\"sk-estimator-id-456\" class=\"sk-toggleable__label sk-toggleable__label-arrow\">preprocessor: ColumnTransformer</label><div class=\"sk-toggleable__content\"><pre>ColumnTransformer(transformers=[(&#x27;do_nothing&#x27;, &#x27;passthrough&#x27;, [&#x27;holiday&#x27;]),\n",
       "                                (&#x27;one_hot_encoding&#x27;,\n",
       "                                 Pipeline(steps=[(&#x27;onehotencoder&#x27;,\n",
       "                                                  OneHotEncoder(handle_unknown=&#x27;ignore&#x27;))]),\n",
       "                                 [&#x27;weather&#x27;, &#x27;year&#x27;, &#x27;month&#x27;, &#x27;day&#x27;, &#x27;hour&#x27;]),\n",
       "                                (&#x27;scaling&#x27;,\n",
       "                                 Pipeline(steps=[(&#x27;minmaxscaler&#x27;,\n",
       "                                                  MinMaxScaler())]),\n",
       "                                 [&#x27;temp&#x27;, &#x27;humidity&#x27;, &#x27;windspeed&#x27;])])</pre></div></div></div><div class=\"sk-parallel\"><div class=\"sk-parallel-item\"><div class=\"sk-item\"><div class=\"sk-label-container\"><div class=\"sk-label sk-toggleable\"><input class=\"sk-toggleable__control sk-hidden--visually\" id=\"sk-estimator-id-457\" type=\"checkbox\" ><label for=\"sk-estimator-id-457\" class=\"sk-toggleable__label sk-toggleable__label-arrow\">do_nothing</label><div class=\"sk-toggleable__content\"><pre>[&#x27;holiday&#x27;]</pre></div></div></div><div class=\"sk-serial\"><div class=\"sk-item\"><div class=\"sk-estimator sk-toggleable\"><input class=\"sk-toggleable__control sk-hidden--visually\" id=\"sk-estimator-id-458\" type=\"checkbox\" ><label for=\"sk-estimator-id-458\" class=\"sk-toggleable__label sk-toggleable__label-arrow\">passthrough</label><div class=\"sk-toggleable__content\"><pre>passthrough</pre></div></div></div></div></div></div><div class=\"sk-parallel-item\"><div class=\"sk-item\"><div class=\"sk-label-container\"><div class=\"sk-label sk-toggleable\"><input class=\"sk-toggleable__control sk-hidden--visually\" id=\"sk-estimator-id-459\" type=\"checkbox\" ><label for=\"sk-estimator-id-459\" class=\"sk-toggleable__label sk-toggleable__label-arrow\">one_hot_encoding</label><div class=\"sk-toggleable__content\"><pre>[&#x27;weather&#x27;, &#x27;year&#x27;, &#x27;month&#x27;, &#x27;day&#x27;, &#x27;hour&#x27;]</pre></div></div></div><div class=\"sk-serial\"><div class=\"sk-item\"><div class=\"sk-serial\"><div class=\"sk-item\"><div class=\"sk-estimator sk-toggleable\"><input class=\"sk-toggleable__control sk-hidden--visually\" id=\"sk-estimator-id-460\" type=\"checkbox\" ><label for=\"sk-estimator-id-460\" class=\"sk-toggleable__label sk-toggleable__label-arrow\">OneHotEncoder</label><div class=\"sk-toggleable__content\"><pre>OneHotEncoder(handle_unknown=&#x27;ignore&#x27;)</pre></div></div></div></div></div></div></div></div><div class=\"sk-parallel-item\"><div class=\"sk-item\"><div class=\"sk-label-container\"><div class=\"sk-label sk-toggleable\"><input class=\"sk-toggleable__control sk-hidden--visually\" id=\"sk-estimator-id-461\" type=\"checkbox\" ><label for=\"sk-estimator-id-461\" class=\"sk-toggleable__label sk-toggleable__label-arrow\">scaling</label><div class=\"sk-toggleable__content\"><pre>[&#x27;temp&#x27;, &#x27;humidity&#x27;, &#x27;windspeed&#x27;]</pre></div></div></div><div class=\"sk-serial\"><div class=\"sk-item\"><div class=\"sk-serial\"><div class=\"sk-item\"><div class=\"sk-estimator sk-toggleable\"><input class=\"sk-toggleable__control sk-hidden--visually\" id=\"sk-estimator-id-462\" type=\"checkbox\" ><label for=\"sk-estimator-id-462\" class=\"sk-toggleable__label sk-toggleable__label-arrow\">MinMaxScaler</label><div class=\"sk-toggleable__content\"><pre>MinMaxScaler()</pre></div></div></div></div></div></div></div></div></div></div><div class=\"sk-item\"><div class=\"sk-estimator sk-toggleable\"><input class=\"sk-toggleable__control sk-hidden--visually\" id=\"sk-estimator-id-463\" type=\"checkbox\" ><label for=\"sk-estimator-id-463\" class=\"sk-toggleable__label sk-toggleable__label-arrow\">PolynomialFeatures</label><div class=\"sk-toggleable__content\"><pre>PolynomialFeatures(include_bias=False)</pre></div></div></div><div class=\"sk-item\"><div class=\"sk-estimator sk-toggleable\"><input class=\"sk-toggleable__control sk-hidden--visually\" id=\"sk-estimator-id-464\" type=\"checkbox\" ><label for=\"sk-estimator-id-464\" class=\"sk-toggleable__label sk-toggleable__label-arrow\">Lasso</label><div class=\"sk-toggleable__content\"><pre>Lasso(alpha=0.001, max_iter=10000)</pre></div></div></div></div></div></div></div></div></div></div></div></div></div></div></div></div></div>"
      ],
      "text/plain": [
       "GridSearchCV(cv=5,\n",
       "             estimator=TransformedTargetRegressor(func=<ufunc 'log1p'>,\n",
       "                                                  inverse_func=<ufunc 'expm1'>,\n",
       "                                                  regressor=Pipeline(steps=[('preprocessor',\n",
       "                                                                             ColumnTransformer(transformers=[('do_nothing',\n",
       "                                                                                                              'passthrough',\n",
       "                                                                                                              ['holiday']),\n",
       "                                                                                                             ('one_hot_encoding',\n",
       "                                                                                                              Pipeline(steps=[('onehotencoder',\n",
       "                                                                                                                               OneHotEncoder(handle_unknown='ignore'))]),\n",
       "                                                                                                              ['weather',\n",
       "                                                                                                               'year',\n",
       "                                                                                                               'month',\n",
       "                                                                                                               'day',\n",
       "                                                                                                               'hour...\n",
       "       0.00451, 0.00452, 0.00453, 0.00454, 0.00455, 0.00456, 0.00457,\n",
       "       0.00458, 0.00459, 0.0046 , 0.00461, 0.00462, 0.00463, 0.00464,\n",
       "       0.00465, 0.00466, 0.00467, 0.00468, 0.00469, 0.0047 , 0.00471,\n",
       "       0.00472, 0.00473, 0.00474, 0.00475, 0.00476, 0.00477, 0.00478,\n",
       "       0.00479, 0.0048 , 0.00481, 0.00482, 0.00483, 0.00484, 0.00485,\n",
       "       0.00486, 0.00487, 0.00488, 0.00489, 0.0049 , 0.00491, 0.00492,\n",
       "       0.00493, 0.00494, 0.00495, 0.00496, 0.00497, 0.00498, 0.00499])})"
      ]
     },
     "execution_count": 239,
     "metadata": {},
     "output_type": "execute_result"
    }
   ],
   "source": [
    "cv_h.fit(X_train,y_train)"
   ]
  },
  {
   "cell_type": "code",
   "execution_count": 240,
   "id": "11ae30fb-e14f-4ed7-aa23-f82389cb4611",
   "metadata": {},
   "outputs": [
    {
     "name": "stdout",
     "output_type": "stream",
     "text": [
      "Best:\n",
      "0.752  for  {'regressor__m_lar__alpha': 0.00047999999999999996}\n"
     ]
    }
   ],
   "source": [
    "# Print results of hyperparameter optimization using random search       \n",
    "print_results(cv_h, show_all=False)"
   ]
  },
  {
   "cell_type": "markdown",
   "id": "03984278-72bc-4187-9d72-6b276d7aa261",
   "metadata": {},
   "source": [
    "### Poisson Regression"
   ]
  },
  {
   "cell_type": "markdown",
   "id": "e0db0091-529a-487e-8b23-3eb22897c74d",
   "metadata": {},
   "source": [
    "#### Feature Engineering"
   ]
  },
  {
   "cell_type": "markdown",
   "id": "e98a65b7-0426-4c4a-8208-eeec6a940db7",
   "metadata": {},
   "source": [
    "Same as linear regression"
   ]
  },
  {
   "cell_type": "markdown",
   "id": "2f5f9316-31d3-4241-b11f-df2cf7c421cb",
   "metadata": {},
   "source": [
    "#### Create Model"
   ]
  },
  {
   "cell_type": "code",
   "execution_count": 267,
   "id": "e0eccf48-8994-4108-9bfd-54109f326b3c",
   "metadata": {},
   "outputs": [],
   "source": [
    "pr = Pipeline([\n",
    "    ('preprocessor', feature_transform),\n",
    "    ('poly_features', PolynomialFeatures(degree=2, \n",
    "                                         include_bias=False,\n",
    "                                         interaction_only=False)),\n",
    "    ('m_pr', PoissonRegressor(alpha=0,max_iter=10000))\n",
    "])"
   ]
  },
  {
   "cell_type": "code",
   "execution_count": 268,
   "id": "1a3b071e-b0b2-4e79-aa3f-225eb1c33374",
   "metadata": {},
   "outputs": [
    {
     "data": {
      "text/html": [
       "<style>#sk-container-id-51 {color: black;background-color: white;}#sk-container-id-51 pre{padding: 0;}#sk-container-id-51 div.sk-toggleable {background-color: white;}#sk-container-id-51 label.sk-toggleable__label {cursor: pointer;display: block;width: 100%;margin-bottom: 0;padding: 0.3em;box-sizing: border-box;text-align: center;}#sk-container-id-51 label.sk-toggleable__label-arrow:before {content: \"▸\";float: left;margin-right: 0.25em;color: #696969;}#sk-container-id-51 label.sk-toggleable__label-arrow:hover:before {color: black;}#sk-container-id-51 div.sk-estimator:hover label.sk-toggleable__label-arrow:before {color: black;}#sk-container-id-51 div.sk-toggleable__content {max-height: 0;max-width: 0;overflow: hidden;text-align: left;background-color: #f0f8ff;}#sk-container-id-51 div.sk-toggleable__content pre {margin: 0.2em;color: black;border-radius: 0.25em;background-color: #f0f8ff;}#sk-container-id-51 input.sk-toggleable__control:checked~div.sk-toggleable__content {max-height: 200px;max-width: 100%;overflow: auto;}#sk-container-id-51 input.sk-toggleable__control:checked~label.sk-toggleable__label-arrow:before {content: \"▾\";}#sk-container-id-51 div.sk-estimator input.sk-toggleable__control:checked~label.sk-toggleable__label {background-color: #d4ebff;}#sk-container-id-51 div.sk-label input.sk-toggleable__control:checked~label.sk-toggleable__label {background-color: #d4ebff;}#sk-container-id-51 input.sk-hidden--visually {border: 0;clip: rect(1px 1px 1px 1px);clip: rect(1px, 1px, 1px, 1px);height: 1px;margin: -1px;overflow: hidden;padding: 0;position: absolute;width: 1px;}#sk-container-id-51 div.sk-estimator {font-family: monospace;background-color: #f0f8ff;border: 1px dotted black;border-radius: 0.25em;box-sizing: border-box;margin-bottom: 0.5em;}#sk-container-id-51 div.sk-estimator:hover {background-color: #d4ebff;}#sk-container-id-51 div.sk-parallel-item::after {content: \"\";width: 100%;border-bottom: 1px solid gray;flex-grow: 1;}#sk-container-id-51 div.sk-label:hover label.sk-toggleable__label {background-color: #d4ebff;}#sk-container-id-51 div.sk-serial::before {content: \"\";position: absolute;border-left: 1px solid gray;box-sizing: border-box;top: 0;bottom: 0;left: 50%;z-index: 0;}#sk-container-id-51 div.sk-serial {display: flex;flex-direction: column;align-items: center;background-color: white;padding-right: 0.2em;padding-left: 0.2em;position: relative;}#sk-container-id-51 div.sk-item {position: relative;z-index: 1;}#sk-container-id-51 div.sk-parallel {display: flex;align-items: stretch;justify-content: center;background-color: white;position: relative;}#sk-container-id-51 div.sk-item::before, #sk-container-id-51 div.sk-parallel-item::before {content: \"\";position: absolute;border-left: 1px solid gray;box-sizing: border-box;top: 0;bottom: 0;left: 50%;z-index: -1;}#sk-container-id-51 div.sk-parallel-item {display: flex;flex-direction: column;z-index: 1;position: relative;background-color: white;}#sk-container-id-51 div.sk-parallel-item:first-child::after {align-self: flex-end;width: 50%;}#sk-container-id-51 div.sk-parallel-item:last-child::after {align-self: flex-start;width: 50%;}#sk-container-id-51 div.sk-parallel-item:only-child::after {width: 0;}#sk-container-id-51 div.sk-dashed-wrapped {border: 1px dashed gray;margin: 0 0.4em 0.5em 0.4em;box-sizing: border-box;padding-bottom: 0.4em;background-color: white;}#sk-container-id-51 div.sk-label label {font-family: monospace;font-weight: bold;display: inline-block;line-height: 1.2em;}#sk-container-id-51 div.sk-label-container {text-align: center;}#sk-container-id-51 div.sk-container {/* jupyter's `normalize.less` sets `[hidden] { display: none; }` but bootstrap.min.css set `[hidden] { display: none !important; }` so we also need the `!important` here to be able to override the default hidden behavior on the sphinx rendered scikit-learn.org. See: https://github.com/scikit-learn/scikit-learn/issues/21755 */display: inline-block !important;position: relative;}#sk-container-id-51 div.sk-text-repr-fallback {display: none;}</style><div id=\"sk-container-id-51\" class=\"sk-top-container\"><div class=\"sk-text-repr-fallback\"><pre>Pipeline(steps=[(&#x27;preprocessor&#x27;,\n",
       "                 ColumnTransformer(transformers=[(&#x27;do_nothing&#x27;, &#x27;passthrough&#x27;,\n",
       "                                                  [&#x27;holiday&#x27;]),\n",
       "                                                 (&#x27;one_hot_encoding&#x27;,\n",
       "                                                  Pipeline(steps=[(&#x27;onehotencoder&#x27;,\n",
       "                                                                   OneHotEncoder(handle_unknown=&#x27;ignore&#x27;))]),\n",
       "                                                  [&#x27;weather&#x27;, &#x27;year&#x27;, &#x27;month&#x27;,\n",
       "                                                   &#x27;day&#x27;, &#x27;hour&#x27;]),\n",
       "                                                 (&#x27;scaling&#x27;,\n",
       "                                                  Pipeline(steps=[(&#x27;minmaxscaler&#x27;,\n",
       "                                                                   MinMaxScaler())]),\n",
       "                                                  [&#x27;temp&#x27;, &#x27;humidity&#x27;,\n",
       "                                                   &#x27;windspeed&#x27;])])),\n",
       "                (&#x27;poly_features&#x27;, PolynomialFeatures(include_bias=False)),\n",
       "                (&#x27;m_pr&#x27;, PoissonRegressor(alpha=0, max_iter=10000))])</pre><b>In a Jupyter environment, please rerun this cell to show the HTML representation or trust the notebook. <br />On GitHub, the HTML representation is unable to render, please try loading this page with nbviewer.org.</b></div><div class=\"sk-container\" hidden><div class=\"sk-item sk-dashed-wrapped\"><div class=\"sk-label-container\"><div class=\"sk-label sk-toggleable\"><input class=\"sk-toggleable__control sk-hidden--visually\" id=\"sk-estimator-id-538\" type=\"checkbox\" ><label for=\"sk-estimator-id-538\" class=\"sk-toggleable__label sk-toggleable__label-arrow\">Pipeline</label><div class=\"sk-toggleable__content\"><pre>Pipeline(steps=[(&#x27;preprocessor&#x27;,\n",
       "                 ColumnTransformer(transformers=[(&#x27;do_nothing&#x27;, &#x27;passthrough&#x27;,\n",
       "                                                  [&#x27;holiday&#x27;]),\n",
       "                                                 (&#x27;one_hot_encoding&#x27;,\n",
       "                                                  Pipeline(steps=[(&#x27;onehotencoder&#x27;,\n",
       "                                                                   OneHotEncoder(handle_unknown=&#x27;ignore&#x27;))]),\n",
       "                                                  [&#x27;weather&#x27;, &#x27;year&#x27;, &#x27;month&#x27;,\n",
       "                                                   &#x27;day&#x27;, &#x27;hour&#x27;]),\n",
       "                                                 (&#x27;scaling&#x27;,\n",
       "                                                  Pipeline(steps=[(&#x27;minmaxscaler&#x27;,\n",
       "                                                                   MinMaxScaler())]),\n",
       "                                                  [&#x27;temp&#x27;, &#x27;humidity&#x27;,\n",
       "                                                   &#x27;windspeed&#x27;])])),\n",
       "                (&#x27;poly_features&#x27;, PolynomialFeatures(include_bias=False)),\n",
       "                (&#x27;m_pr&#x27;, PoissonRegressor(alpha=0, max_iter=10000))])</pre></div></div></div><div class=\"sk-serial\"><div class=\"sk-item sk-dashed-wrapped\"><div class=\"sk-label-container\"><div class=\"sk-label sk-toggleable\"><input class=\"sk-toggleable__control sk-hidden--visually\" id=\"sk-estimator-id-539\" type=\"checkbox\" ><label for=\"sk-estimator-id-539\" class=\"sk-toggleable__label sk-toggleable__label-arrow\">preprocessor: ColumnTransformer</label><div class=\"sk-toggleable__content\"><pre>ColumnTransformer(transformers=[(&#x27;do_nothing&#x27;, &#x27;passthrough&#x27;, [&#x27;holiday&#x27;]),\n",
       "                                (&#x27;one_hot_encoding&#x27;,\n",
       "                                 Pipeline(steps=[(&#x27;onehotencoder&#x27;,\n",
       "                                                  OneHotEncoder(handle_unknown=&#x27;ignore&#x27;))]),\n",
       "                                 [&#x27;weather&#x27;, &#x27;year&#x27;, &#x27;month&#x27;, &#x27;day&#x27;, &#x27;hour&#x27;]),\n",
       "                                (&#x27;scaling&#x27;,\n",
       "                                 Pipeline(steps=[(&#x27;minmaxscaler&#x27;,\n",
       "                                                  MinMaxScaler())]),\n",
       "                                 [&#x27;temp&#x27;, &#x27;humidity&#x27;, &#x27;windspeed&#x27;])])</pre></div></div></div><div class=\"sk-parallel\"><div class=\"sk-parallel-item\"><div class=\"sk-item\"><div class=\"sk-label-container\"><div class=\"sk-label sk-toggleable\"><input class=\"sk-toggleable__control sk-hidden--visually\" id=\"sk-estimator-id-540\" type=\"checkbox\" ><label for=\"sk-estimator-id-540\" class=\"sk-toggleable__label sk-toggleable__label-arrow\">do_nothing</label><div class=\"sk-toggleable__content\"><pre>[&#x27;holiday&#x27;]</pre></div></div></div><div class=\"sk-serial\"><div class=\"sk-item\"><div class=\"sk-estimator sk-toggleable\"><input class=\"sk-toggleable__control sk-hidden--visually\" id=\"sk-estimator-id-541\" type=\"checkbox\" ><label for=\"sk-estimator-id-541\" class=\"sk-toggleable__label sk-toggleable__label-arrow\">passthrough</label><div class=\"sk-toggleable__content\"><pre>passthrough</pre></div></div></div></div></div></div><div class=\"sk-parallel-item\"><div class=\"sk-item\"><div class=\"sk-label-container\"><div class=\"sk-label sk-toggleable\"><input class=\"sk-toggleable__control sk-hidden--visually\" id=\"sk-estimator-id-542\" type=\"checkbox\" ><label for=\"sk-estimator-id-542\" class=\"sk-toggleable__label sk-toggleable__label-arrow\">one_hot_encoding</label><div class=\"sk-toggleable__content\"><pre>[&#x27;weather&#x27;, &#x27;year&#x27;, &#x27;month&#x27;, &#x27;day&#x27;, &#x27;hour&#x27;]</pre></div></div></div><div class=\"sk-serial\"><div class=\"sk-item\"><div class=\"sk-serial\"><div class=\"sk-item\"><div class=\"sk-estimator sk-toggleable\"><input class=\"sk-toggleable__control sk-hidden--visually\" id=\"sk-estimator-id-543\" type=\"checkbox\" ><label for=\"sk-estimator-id-543\" class=\"sk-toggleable__label sk-toggleable__label-arrow\">OneHotEncoder</label><div class=\"sk-toggleable__content\"><pre>OneHotEncoder(handle_unknown=&#x27;ignore&#x27;)</pre></div></div></div></div></div></div></div></div><div class=\"sk-parallel-item\"><div class=\"sk-item\"><div class=\"sk-label-container\"><div class=\"sk-label sk-toggleable\"><input class=\"sk-toggleable__control sk-hidden--visually\" id=\"sk-estimator-id-544\" type=\"checkbox\" ><label for=\"sk-estimator-id-544\" class=\"sk-toggleable__label sk-toggleable__label-arrow\">scaling</label><div class=\"sk-toggleable__content\"><pre>[&#x27;temp&#x27;, &#x27;humidity&#x27;, &#x27;windspeed&#x27;]</pre></div></div></div><div class=\"sk-serial\"><div class=\"sk-item\"><div class=\"sk-serial\"><div class=\"sk-item\"><div class=\"sk-estimator sk-toggleable\"><input class=\"sk-toggleable__control sk-hidden--visually\" id=\"sk-estimator-id-545\" type=\"checkbox\" ><label for=\"sk-estimator-id-545\" class=\"sk-toggleable__label sk-toggleable__label-arrow\">MinMaxScaler</label><div class=\"sk-toggleable__content\"><pre>MinMaxScaler()</pre></div></div></div></div></div></div></div></div></div></div><div class=\"sk-item\"><div class=\"sk-estimator sk-toggleable\"><input class=\"sk-toggleable__control sk-hidden--visually\" id=\"sk-estimator-id-546\" type=\"checkbox\" ><label for=\"sk-estimator-id-546\" class=\"sk-toggleable__label sk-toggleable__label-arrow\">PolynomialFeatures</label><div class=\"sk-toggleable__content\"><pre>PolynomialFeatures(include_bias=False)</pre></div></div></div><div class=\"sk-item\"><div class=\"sk-estimator sk-toggleable\"><input class=\"sk-toggleable__control sk-hidden--visually\" id=\"sk-estimator-id-547\" type=\"checkbox\" ><label for=\"sk-estimator-id-547\" class=\"sk-toggleable__label sk-toggleable__label-arrow\">PoissonRegressor</label><div class=\"sk-toggleable__content\"><pre>PoissonRegressor(alpha=0, max_iter=10000)</pre></div></div></div></div></div></div></div>"
      ],
      "text/plain": [
       "Pipeline(steps=[('preprocessor',\n",
       "                 ColumnTransformer(transformers=[('do_nothing', 'passthrough',\n",
       "                                                  ['holiday']),\n",
       "                                                 ('one_hot_encoding',\n",
       "                                                  Pipeline(steps=[('onehotencoder',\n",
       "                                                                   OneHotEncoder(handle_unknown='ignore'))]),\n",
       "                                                  ['weather', 'year', 'month',\n",
       "                                                   'day', 'hour']),\n",
       "                                                 ('scaling',\n",
       "                                                  Pipeline(steps=[('minmaxscaler',\n",
       "                                                                   MinMaxScaler())]),\n",
       "                                                  ['temp', 'humidity',\n",
       "                                                   'windspeed'])])),\n",
       "                ('poly_features', PolynomialFeatures(include_bias=False)),\n",
       "                ('m_pr', PoissonRegressor(alpha=0, max_iter=10000))])"
      ]
     },
     "execution_count": 268,
     "metadata": {},
     "output_type": "execute_result"
    }
   ],
   "source": [
    "pr.fit(X_train, y_train)"
   ]
  },
  {
   "cell_type": "markdown",
   "id": "5603f745-d22c-47bc-aa85-8dd1a546a18c",
   "metadata": {},
   "source": [
    "#### Evaluate Model"
   ]
  },
  {
   "cell_type": "code",
   "execution_count": 269,
   "id": "ee313dca-68b4-4594-b164-cdcc20d490d4",
   "metadata": {},
   "outputs": [
    {
     "name": "stdout",
     "output_type": "stream",
     "text": [
      "R2 train : 0.86\n",
      "R2 test: 0.79\n",
      "\n",
      "\n",
      "RMSLE train: 0.56\n",
      "RMSLE test: 0.64\n"
     ]
    }
   ],
   "source": [
    "print_evaluation_metrics(pr,X_train,y_train,X_test,y_test)"
   ]
  },
  {
   "cell_type": "markdown",
   "id": "f7b73c90-dd87-4513-b64c-5a05b883f550",
   "metadata": {},
   "source": [
    "#### Tune Hyperparameters"
   ]
  },
  {
   "cell_type": "code",
   "execution_count": 271,
   "id": "5408dbbc-0b28-4476-b303-92a85b9b7323",
   "metadata": {},
   "outputs": [
    {
     "data": {
      "text/plain": [
       "dict_keys(['memory', 'steps', 'verbose', 'preprocessor', 'poly_features', 'm_pr', 'preprocessor__n_jobs', 'preprocessor__remainder', 'preprocessor__sparse_threshold', 'preprocessor__transformer_weights', 'preprocessor__transformers', 'preprocessor__verbose', 'preprocessor__verbose_feature_names_out', 'preprocessor__do_nothing', 'preprocessor__one_hot_encoding', 'preprocessor__scaling', 'preprocessor__one_hot_encoding__memory', 'preprocessor__one_hot_encoding__steps', 'preprocessor__one_hot_encoding__verbose', 'preprocessor__one_hot_encoding__onehotencoder', 'preprocessor__one_hot_encoding__onehotencoder__categories', 'preprocessor__one_hot_encoding__onehotencoder__drop', 'preprocessor__one_hot_encoding__onehotencoder__dtype', 'preprocessor__one_hot_encoding__onehotencoder__handle_unknown', 'preprocessor__one_hot_encoding__onehotencoder__max_categories', 'preprocessor__one_hot_encoding__onehotencoder__min_frequency', 'preprocessor__one_hot_encoding__onehotencoder__sparse', 'preprocessor__scaling__memory', 'preprocessor__scaling__steps', 'preprocessor__scaling__verbose', 'preprocessor__scaling__minmaxscaler', 'preprocessor__scaling__minmaxscaler__clip', 'preprocessor__scaling__minmaxscaler__copy', 'preprocessor__scaling__minmaxscaler__feature_range', 'poly_features__degree', 'poly_features__include_bias', 'poly_features__interaction_only', 'poly_features__order', 'm_pr__alpha', 'm_pr__fit_intercept', 'm_pr__max_iter', 'm_pr__tol', 'm_pr__verbose', 'm_pr__warm_start'])"
      ]
     },
     "execution_count": 271,
     "metadata": {},
     "output_type": "execute_result"
    }
   ],
   "source": [
    "# get list of hyperparameters\n",
    "pr.get_params().keys()"
   ]
  },
  {
   "cell_type": "code",
   "execution_count": 295,
   "id": "b2f5ac74-312e-45b2-8e23-895fee59fe9c",
   "metadata": {},
   "outputs": [],
   "source": [
    "parameters = {'m_pr__alpha': np.arange(0,10,0.1)}"
   ]
  },
  {
   "cell_type": "code",
   "execution_count": 296,
   "id": "573433ea-55e9-4ee7-ab9e-cf218edf9a5e",
   "metadata": {},
   "outputs": [],
   "source": [
    "cv_h =  GridSearchCV(estimator=pr,param_grid=parameters,cv=5,n_jobs=-1)"
   ]
  },
  {
   "cell_type": "code",
   "execution_count": 293,
   "id": "5c7576a0-6e28-49ae-9bd8-dd93b4a00c07",
   "metadata": {},
   "outputs": [
    {
     "data": {
      "text/html": [
       "<style>#sk-container-id-54 {color: black;background-color: white;}#sk-container-id-54 pre{padding: 0;}#sk-container-id-54 div.sk-toggleable {background-color: white;}#sk-container-id-54 label.sk-toggleable__label {cursor: pointer;display: block;width: 100%;margin-bottom: 0;padding: 0.3em;box-sizing: border-box;text-align: center;}#sk-container-id-54 label.sk-toggleable__label-arrow:before {content: \"▸\";float: left;margin-right: 0.25em;color: #696969;}#sk-container-id-54 label.sk-toggleable__label-arrow:hover:before {color: black;}#sk-container-id-54 div.sk-estimator:hover label.sk-toggleable__label-arrow:before {color: black;}#sk-container-id-54 div.sk-toggleable__content {max-height: 0;max-width: 0;overflow: hidden;text-align: left;background-color: #f0f8ff;}#sk-container-id-54 div.sk-toggleable__content pre {margin: 0.2em;color: black;border-radius: 0.25em;background-color: #f0f8ff;}#sk-container-id-54 input.sk-toggleable__control:checked~div.sk-toggleable__content {max-height: 200px;max-width: 100%;overflow: auto;}#sk-container-id-54 input.sk-toggleable__control:checked~label.sk-toggleable__label-arrow:before {content: \"▾\";}#sk-container-id-54 div.sk-estimator input.sk-toggleable__control:checked~label.sk-toggleable__label {background-color: #d4ebff;}#sk-container-id-54 div.sk-label input.sk-toggleable__control:checked~label.sk-toggleable__label {background-color: #d4ebff;}#sk-container-id-54 input.sk-hidden--visually {border: 0;clip: rect(1px 1px 1px 1px);clip: rect(1px, 1px, 1px, 1px);height: 1px;margin: -1px;overflow: hidden;padding: 0;position: absolute;width: 1px;}#sk-container-id-54 div.sk-estimator {font-family: monospace;background-color: #f0f8ff;border: 1px dotted black;border-radius: 0.25em;box-sizing: border-box;margin-bottom: 0.5em;}#sk-container-id-54 div.sk-estimator:hover {background-color: #d4ebff;}#sk-container-id-54 div.sk-parallel-item::after {content: \"\";width: 100%;border-bottom: 1px solid gray;flex-grow: 1;}#sk-container-id-54 div.sk-label:hover label.sk-toggleable__label {background-color: #d4ebff;}#sk-container-id-54 div.sk-serial::before {content: \"\";position: absolute;border-left: 1px solid gray;box-sizing: border-box;top: 0;bottom: 0;left: 50%;z-index: 0;}#sk-container-id-54 div.sk-serial {display: flex;flex-direction: column;align-items: center;background-color: white;padding-right: 0.2em;padding-left: 0.2em;position: relative;}#sk-container-id-54 div.sk-item {position: relative;z-index: 1;}#sk-container-id-54 div.sk-parallel {display: flex;align-items: stretch;justify-content: center;background-color: white;position: relative;}#sk-container-id-54 div.sk-item::before, #sk-container-id-54 div.sk-parallel-item::before {content: \"\";position: absolute;border-left: 1px solid gray;box-sizing: border-box;top: 0;bottom: 0;left: 50%;z-index: -1;}#sk-container-id-54 div.sk-parallel-item {display: flex;flex-direction: column;z-index: 1;position: relative;background-color: white;}#sk-container-id-54 div.sk-parallel-item:first-child::after {align-self: flex-end;width: 50%;}#sk-container-id-54 div.sk-parallel-item:last-child::after {align-self: flex-start;width: 50%;}#sk-container-id-54 div.sk-parallel-item:only-child::after {width: 0;}#sk-container-id-54 div.sk-dashed-wrapped {border: 1px dashed gray;margin: 0 0.4em 0.5em 0.4em;box-sizing: border-box;padding-bottom: 0.4em;background-color: white;}#sk-container-id-54 div.sk-label label {font-family: monospace;font-weight: bold;display: inline-block;line-height: 1.2em;}#sk-container-id-54 div.sk-label-container {text-align: center;}#sk-container-id-54 div.sk-container {/* jupyter's `normalize.less` sets `[hidden] { display: none; }` but bootstrap.min.css set `[hidden] { display: none !important; }` so we also need the `!important` here to be able to override the default hidden behavior on the sphinx rendered scikit-learn.org. See: https://github.com/scikit-learn/scikit-learn/issues/21755 */display: inline-block !important;position: relative;}#sk-container-id-54 div.sk-text-repr-fallback {display: none;}</style><div id=\"sk-container-id-54\" class=\"sk-top-container\"><div class=\"sk-text-repr-fallback\"><pre>GridSearchCV(cv=5,\n",
       "             estimator=Pipeline(steps=[(&#x27;preprocessor&#x27;,\n",
       "                                        ColumnTransformer(transformers=[(&#x27;do_nothing&#x27;,\n",
       "                                                                         &#x27;passthrough&#x27;,\n",
       "                                                                         [&#x27;holiday&#x27;]),\n",
       "                                                                        (&#x27;one_hot_encoding&#x27;,\n",
       "                                                                         Pipeline(steps=[(&#x27;onehotencoder&#x27;,\n",
       "                                                                                          OneHotEncoder(handle_unknown=&#x27;ignore&#x27;))]),\n",
       "                                                                         [&#x27;weather&#x27;,\n",
       "                                                                          &#x27;year&#x27;,\n",
       "                                                                          &#x27;month&#x27;,\n",
       "                                                                          &#x27;day&#x27;,\n",
       "                                                                          &#x27;hour&#x27;]),\n",
       "                                                                        (&#x27;scaling&#x27;,\n",
       "                                                                         Pipeline(steps=[(&#x27;minmaxscaler&#x27;,\n",
       "                                                                                          MinMaxScaler())]),\n",
       "                                                                         [&#x27;temp&#x27;,\n",
       "                                                                          &#x27;humidity&#x27;,\n",
       "                                                                          &#x27;...\n",
       "        7.60000000e+00,  7.70000000e+00,  7.80000000e+00,  7.90000000e+00,\n",
       "        8.00000000e+00,  8.10000000e+00,  8.20000000e+00,  8.30000000e+00,\n",
       "        8.40000000e+00,  8.50000000e+00,  8.60000000e+00,  8.70000000e+00,\n",
       "        8.80000000e+00,  8.90000000e+00,  9.00000000e+00,  9.10000000e+00,\n",
       "        9.20000000e+00,  9.30000000e+00,  9.40000000e+00,  9.50000000e+00,\n",
       "        9.60000000e+00,  9.70000000e+00,  9.80000000e+00,  9.90000000e+00])})</pre><b>In a Jupyter environment, please rerun this cell to show the HTML representation or trust the notebook. <br />On GitHub, the HTML representation is unable to render, please try loading this page with nbviewer.org.</b></div><div class=\"sk-container\" hidden><div class=\"sk-item sk-dashed-wrapped\"><div class=\"sk-label-container\"><div class=\"sk-label sk-toggleable\"><input class=\"sk-toggleable__control sk-hidden--visually\" id=\"sk-estimator-id-570\" type=\"checkbox\" ><label for=\"sk-estimator-id-570\" class=\"sk-toggleable__label sk-toggleable__label-arrow\">GridSearchCV</label><div class=\"sk-toggleable__content\"><pre>GridSearchCV(cv=5,\n",
       "             estimator=Pipeline(steps=[(&#x27;preprocessor&#x27;,\n",
       "                                        ColumnTransformer(transformers=[(&#x27;do_nothing&#x27;,\n",
       "                                                                         &#x27;passthrough&#x27;,\n",
       "                                                                         [&#x27;holiday&#x27;]),\n",
       "                                                                        (&#x27;one_hot_encoding&#x27;,\n",
       "                                                                         Pipeline(steps=[(&#x27;onehotencoder&#x27;,\n",
       "                                                                                          OneHotEncoder(handle_unknown=&#x27;ignore&#x27;))]),\n",
       "                                                                         [&#x27;weather&#x27;,\n",
       "                                                                          &#x27;year&#x27;,\n",
       "                                                                          &#x27;month&#x27;,\n",
       "                                                                          &#x27;day&#x27;,\n",
       "                                                                          &#x27;hour&#x27;]),\n",
       "                                                                        (&#x27;scaling&#x27;,\n",
       "                                                                         Pipeline(steps=[(&#x27;minmaxscaler&#x27;,\n",
       "                                                                                          MinMaxScaler())]),\n",
       "                                                                         [&#x27;temp&#x27;,\n",
       "                                                                          &#x27;humidity&#x27;,\n",
       "                                                                          &#x27;...\n",
       "        7.60000000e+00,  7.70000000e+00,  7.80000000e+00,  7.90000000e+00,\n",
       "        8.00000000e+00,  8.10000000e+00,  8.20000000e+00,  8.30000000e+00,\n",
       "        8.40000000e+00,  8.50000000e+00,  8.60000000e+00,  8.70000000e+00,\n",
       "        8.80000000e+00,  8.90000000e+00,  9.00000000e+00,  9.10000000e+00,\n",
       "        9.20000000e+00,  9.30000000e+00,  9.40000000e+00,  9.50000000e+00,\n",
       "        9.60000000e+00,  9.70000000e+00,  9.80000000e+00,  9.90000000e+00])})</pre></div></div></div><div class=\"sk-parallel\"><div class=\"sk-parallel-item\"><div class=\"sk-item\"><div class=\"sk-label-container\"><div class=\"sk-label sk-toggleable\"><input class=\"sk-toggleable__control sk-hidden--visually\" id=\"sk-estimator-id-571\" type=\"checkbox\" ><label for=\"sk-estimator-id-571\" class=\"sk-toggleable__label sk-toggleable__label-arrow\">estimator: Pipeline</label><div class=\"sk-toggleable__content\"><pre>Pipeline(steps=[(&#x27;preprocessor&#x27;,\n",
       "                 ColumnTransformer(transformers=[(&#x27;do_nothing&#x27;, &#x27;passthrough&#x27;,\n",
       "                                                  [&#x27;holiday&#x27;]),\n",
       "                                                 (&#x27;one_hot_encoding&#x27;,\n",
       "                                                  Pipeline(steps=[(&#x27;onehotencoder&#x27;,\n",
       "                                                                   OneHotEncoder(handle_unknown=&#x27;ignore&#x27;))]),\n",
       "                                                  [&#x27;weather&#x27;, &#x27;year&#x27;, &#x27;month&#x27;,\n",
       "                                                   &#x27;day&#x27;, &#x27;hour&#x27;]),\n",
       "                                                 (&#x27;scaling&#x27;,\n",
       "                                                  Pipeline(steps=[(&#x27;minmaxscaler&#x27;,\n",
       "                                                                   MinMaxScaler())]),\n",
       "                                                  [&#x27;temp&#x27;, &#x27;humidity&#x27;,\n",
       "                                                   &#x27;windspeed&#x27;])])),\n",
       "                (&#x27;poly_features&#x27;, PolynomialFeatures(include_bias=False)),\n",
       "                (&#x27;m_pr&#x27;, PoissonRegressor(alpha=0, max_iter=10000))])</pre></div></div></div><div class=\"sk-serial\"><div class=\"sk-item\"><div class=\"sk-serial\"><div class=\"sk-item sk-dashed-wrapped\"><div class=\"sk-label-container\"><div class=\"sk-label sk-toggleable\"><input class=\"sk-toggleable__control sk-hidden--visually\" id=\"sk-estimator-id-572\" type=\"checkbox\" ><label for=\"sk-estimator-id-572\" class=\"sk-toggleable__label sk-toggleable__label-arrow\">preprocessor: ColumnTransformer</label><div class=\"sk-toggleable__content\"><pre>ColumnTransformer(transformers=[(&#x27;do_nothing&#x27;, &#x27;passthrough&#x27;, [&#x27;holiday&#x27;]),\n",
       "                                (&#x27;one_hot_encoding&#x27;,\n",
       "                                 Pipeline(steps=[(&#x27;onehotencoder&#x27;,\n",
       "                                                  OneHotEncoder(handle_unknown=&#x27;ignore&#x27;))]),\n",
       "                                 [&#x27;weather&#x27;, &#x27;year&#x27;, &#x27;month&#x27;, &#x27;day&#x27;, &#x27;hour&#x27;]),\n",
       "                                (&#x27;scaling&#x27;,\n",
       "                                 Pipeline(steps=[(&#x27;minmaxscaler&#x27;,\n",
       "                                                  MinMaxScaler())]),\n",
       "                                 [&#x27;temp&#x27;, &#x27;humidity&#x27;, &#x27;windspeed&#x27;])])</pre></div></div></div><div class=\"sk-parallel\"><div class=\"sk-parallel-item\"><div class=\"sk-item\"><div class=\"sk-label-container\"><div class=\"sk-label sk-toggleable\"><input class=\"sk-toggleable__control sk-hidden--visually\" id=\"sk-estimator-id-573\" type=\"checkbox\" ><label for=\"sk-estimator-id-573\" class=\"sk-toggleable__label sk-toggleable__label-arrow\">do_nothing</label><div class=\"sk-toggleable__content\"><pre>[&#x27;holiday&#x27;]</pre></div></div></div><div class=\"sk-serial\"><div class=\"sk-item\"><div class=\"sk-estimator sk-toggleable\"><input class=\"sk-toggleable__control sk-hidden--visually\" id=\"sk-estimator-id-574\" type=\"checkbox\" ><label for=\"sk-estimator-id-574\" class=\"sk-toggleable__label sk-toggleable__label-arrow\">passthrough</label><div class=\"sk-toggleable__content\"><pre>passthrough</pre></div></div></div></div></div></div><div class=\"sk-parallel-item\"><div class=\"sk-item\"><div class=\"sk-label-container\"><div class=\"sk-label sk-toggleable\"><input class=\"sk-toggleable__control sk-hidden--visually\" id=\"sk-estimator-id-575\" type=\"checkbox\" ><label for=\"sk-estimator-id-575\" class=\"sk-toggleable__label sk-toggleable__label-arrow\">one_hot_encoding</label><div class=\"sk-toggleable__content\"><pre>[&#x27;weather&#x27;, &#x27;year&#x27;, &#x27;month&#x27;, &#x27;day&#x27;, &#x27;hour&#x27;]</pre></div></div></div><div class=\"sk-serial\"><div class=\"sk-item\"><div class=\"sk-serial\"><div class=\"sk-item\"><div class=\"sk-estimator sk-toggleable\"><input class=\"sk-toggleable__control sk-hidden--visually\" id=\"sk-estimator-id-576\" type=\"checkbox\" ><label for=\"sk-estimator-id-576\" class=\"sk-toggleable__label sk-toggleable__label-arrow\">OneHotEncoder</label><div class=\"sk-toggleable__content\"><pre>OneHotEncoder(handle_unknown=&#x27;ignore&#x27;)</pre></div></div></div></div></div></div></div></div><div class=\"sk-parallel-item\"><div class=\"sk-item\"><div class=\"sk-label-container\"><div class=\"sk-label sk-toggleable\"><input class=\"sk-toggleable__control sk-hidden--visually\" id=\"sk-estimator-id-577\" type=\"checkbox\" ><label for=\"sk-estimator-id-577\" class=\"sk-toggleable__label sk-toggleable__label-arrow\">scaling</label><div class=\"sk-toggleable__content\"><pre>[&#x27;temp&#x27;, &#x27;humidity&#x27;, &#x27;windspeed&#x27;]</pre></div></div></div><div class=\"sk-serial\"><div class=\"sk-item\"><div class=\"sk-serial\"><div class=\"sk-item\"><div class=\"sk-estimator sk-toggleable\"><input class=\"sk-toggleable__control sk-hidden--visually\" id=\"sk-estimator-id-578\" type=\"checkbox\" ><label for=\"sk-estimator-id-578\" class=\"sk-toggleable__label sk-toggleable__label-arrow\">MinMaxScaler</label><div class=\"sk-toggleable__content\"><pre>MinMaxScaler()</pre></div></div></div></div></div></div></div></div></div></div><div class=\"sk-item\"><div class=\"sk-estimator sk-toggleable\"><input class=\"sk-toggleable__control sk-hidden--visually\" id=\"sk-estimator-id-579\" type=\"checkbox\" ><label for=\"sk-estimator-id-579\" class=\"sk-toggleable__label sk-toggleable__label-arrow\">PolynomialFeatures</label><div class=\"sk-toggleable__content\"><pre>PolynomialFeatures(include_bias=False)</pre></div></div></div><div class=\"sk-item\"><div class=\"sk-estimator sk-toggleable\"><input class=\"sk-toggleable__control sk-hidden--visually\" id=\"sk-estimator-id-580\" type=\"checkbox\" ><label for=\"sk-estimator-id-580\" class=\"sk-toggleable__label sk-toggleable__label-arrow\">PoissonRegressor</label><div class=\"sk-toggleable__content\"><pre>PoissonRegressor(alpha=0, max_iter=10000)</pre></div></div></div></div></div></div></div></div></div></div></div></div>"
      ],
      "text/plain": [
       "GridSearchCV(cv=5,\n",
       "             estimator=Pipeline(steps=[('preprocessor',\n",
       "                                        ColumnTransformer(transformers=[('do_nothing',\n",
       "                                                                         'passthrough',\n",
       "                                                                         ['holiday']),\n",
       "                                                                        ('one_hot_encoding',\n",
       "                                                                         Pipeline(steps=[('onehotencoder',\n",
       "                                                                                          OneHotEncoder(handle_unknown='ignore'))]),\n",
       "                                                                         ['weather',\n",
       "                                                                          'year',\n",
       "                                                                          'month',\n",
       "                                                                          'day',\n",
       "                                                                          'hour']),\n",
       "                                                                        ('scaling',\n",
       "                                                                         Pipeline(steps=[('minmaxscaler',\n",
       "                                                                                          MinMaxScaler())]),\n",
       "                                                                         ['temp',\n",
       "                                                                          'humidity',\n",
       "                                                                          '...\n",
       "        7.60000000e+00,  7.70000000e+00,  7.80000000e+00,  7.90000000e+00,\n",
       "        8.00000000e+00,  8.10000000e+00,  8.20000000e+00,  8.30000000e+00,\n",
       "        8.40000000e+00,  8.50000000e+00,  8.60000000e+00,  8.70000000e+00,\n",
       "        8.80000000e+00,  8.90000000e+00,  9.00000000e+00,  9.10000000e+00,\n",
       "        9.20000000e+00,  9.30000000e+00,  9.40000000e+00,  9.50000000e+00,\n",
       "        9.60000000e+00,  9.70000000e+00,  9.80000000e+00,  9.90000000e+00])})"
      ]
     },
     "execution_count": 293,
     "metadata": {},
     "output_type": "execute_result"
    }
   ],
   "source": [
    "cv_h.fit(X_train,y_train)"
   ]
  },
  {
   "cell_type": "code",
   "execution_count": 294,
   "id": "a510b347-4bba-4897-8dd3-72c277f65f4a",
   "metadata": {},
   "outputs": [
    {
     "name": "stdout",
     "output_type": "stream",
     "text": [
      "Best:\n",
      "0.808  for  {'m_pr__alpha': 0.5999999999999623}\n",
      "All:\n",
      "nan  for {'m_pr__alpha': -10.0}\n",
      "nan  for {'m_pr__alpha': -9.9}\n",
      "nan  for {'m_pr__alpha': -9.8}\n",
      "nan  for {'m_pr__alpha': -9.700000000000001}\n",
      "nan  for {'m_pr__alpha': -9.600000000000001}\n",
      "nan  for {'m_pr__alpha': -9.500000000000002}\n",
      "nan  for {'m_pr__alpha': -9.400000000000002}\n",
      "nan  for {'m_pr__alpha': -9.300000000000002}\n",
      "nan  for {'m_pr__alpha': -9.200000000000003}\n",
      "nan  for {'m_pr__alpha': -9.100000000000003}\n",
      "nan  for {'m_pr__alpha': -9.000000000000004}\n",
      "nan  for {'m_pr__alpha': -8.900000000000004}\n",
      "nan  for {'m_pr__alpha': -8.800000000000004}\n",
      "nan  for {'m_pr__alpha': -8.700000000000005}\n",
      "nan  for {'m_pr__alpha': -8.600000000000005}\n",
      "nan  for {'m_pr__alpha': -8.500000000000005}\n",
      "nan  for {'m_pr__alpha': -8.400000000000006}\n",
      "nan  for {'m_pr__alpha': -8.300000000000006}\n",
      "nan  for {'m_pr__alpha': -8.200000000000006}\n",
      "nan  for {'m_pr__alpha': -8.100000000000007}\n",
      "nan  for {'m_pr__alpha': -8.000000000000007}\n",
      "nan  for {'m_pr__alpha': -7.9000000000000075}\n",
      "nan  for {'m_pr__alpha': -7.800000000000008}\n",
      "nan  for {'m_pr__alpha': -7.700000000000008}\n",
      "nan  for {'m_pr__alpha': -7.6000000000000085}\n",
      "nan  for {'m_pr__alpha': -7.500000000000009}\n",
      "nan  for {'m_pr__alpha': -7.400000000000009}\n",
      "nan  for {'m_pr__alpha': -7.30000000000001}\n",
      "nan  for {'m_pr__alpha': -7.20000000000001}\n",
      "nan  for {'m_pr__alpha': -7.10000000000001}\n",
      "nan  for {'m_pr__alpha': -7.000000000000011}\n",
      "nan  for {'m_pr__alpha': -6.900000000000011}\n",
      "nan  for {'m_pr__alpha': -6.800000000000011}\n",
      "nan  for {'m_pr__alpha': -6.700000000000012}\n",
      "nan  for {'m_pr__alpha': -6.600000000000012}\n",
      "nan  for {'m_pr__alpha': -6.500000000000012}\n",
      "nan  for {'m_pr__alpha': -6.400000000000013}\n",
      "nan  for {'m_pr__alpha': -6.300000000000013}\n",
      "nan  for {'m_pr__alpha': -6.2000000000000135}\n",
      "nan  for {'m_pr__alpha': -6.100000000000014}\n",
      "nan  for {'m_pr__alpha': -6.000000000000014}\n",
      "nan  for {'m_pr__alpha': -5.900000000000015}\n",
      "nan  for {'m_pr__alpha': -5.800000000000015}\n",
      "nan  for {'m_pr__alpha': -5.700000000000015}\n",
      "nan  for {'m_pr__alpha': -5.600000000000016}\n",
      "nan  for {'m_pr__alpha': -5.500000000000016}\n",
      "nan  for {'m_pr__alpha': -5.400000000000016}\n",
      "nan  for {'m_pr__alpha': -5.300000000000017}\n",
      "nan  for {'m_pr__alpha': -5.200000000000017}\n",
      "nan  for {'m_pr__alpha': -5.100000000000017}\n",
      "nan  for {'m_pr__alpha': -5.000000000000018}\n",
      "nan  for {'m_pr__alpha': -4.900000000000018}\n",
      "nan  for {'m_pr__alpha': -4.8000000000000185}\n",
      "nan  for {'m_pr__alpha': -4.700000000000019}\n",
      "nan  for {'m_pr__alpha': -4.600000000000019}\n",
      "nan  for {'m_pr__alpha': -4.5000000000000195}\n",
      "nan  for {'m_pr__alpha': -4.40000000000002}\n",
      "nan  for {'m_pr__alpha': -4.30000000000002}\n",
      "nan  for {'m_pr__alpha': -4.200000000000021}\n",
      "nan  for {'m_pr__alpha': -4.100000000000021}\n",
      "nan  for {'m_pr__alpha': -4.000000000000021}\n",
      "nan  for {'m_pr__alpha': -3.9000000000000217}\n",
      "nan  for {'m_pr__alpha': -3.800000000000022}\n",
      "nan  for {'m_pr__alpha': -3.7000000000000224}\n",
      "nan  for {'m_pr__alpha': -3.6000000000000227}\n",
      "nan  for {'m_pr__alpha': -3.500000000000023}\n",
      "nan  for {'m_pr__alpha': -3.4000000000000234}\n",
      "nan  for {'m_pr__alpha': -3.300000000000024}\n",
      "nan  for {'m_pr__alpha': -3.200000000000024}\n",
      "nan  for {'m_pr__alpha': -3.1000000000000245}\n",
      "nan  for {'m_pr__alpha': -3.000000000000025}\n",
      "nan  for {'m_pr__alpha': -2.9000000000000252}\n",
      "nan  for {'m_pr__alpha': -2.8000000000000256}\n",
      "nan  for {'m_pr__alpha': -2.700000000000026}\n",
      "nan  for {'m_pr__alpha': -2.6000000000000263}\n",
      "nan  for {'m_pr__alpha': -2.5000000000000266}\n",
      "nan  for {'m_pr__alpha': -2.400000000000027}\n",
      "nan  for {'m_pr__alpha': -2.3000000000000274}\n",
      "nan  for {'m_pr__alpha': -2.2000000000000277}\n",
      "nan  for {'m_pr__alpha': -2.100000000000028}\n",
      "nan  for {'m_pr__alpha': -2.0000000000000284}\n",
      "nan  for {'m_pr__alpha': -1.9000000000000288}\n",
      "nan  for {'m_pr__alpha': -1.8000000000000291}\n",
      "nan  for {'m_pr__alpha': -1.7000000000000295}\n",
      "nan  for {'m_pr__alpha': -1.6000000000000298}\n",
      "nan  for {'m_pr__alpha': -1.5000000000000302}\n",
      "nan  for {'m_pr__alpha': -1.4000000000000306}\n",
      "nan  for {'m_pr__alpha': -1.300000000000031}\n",
      "nan  for {'m_pr__alpha': -1.2000000000000313}\n",
      "nan  for {'m_pr__alpha': -1.1000000000000316}\n",
      "nan  for {'m_pr__alpha': -1.000000000000032}\n",
      "nan  for {'m_pr__alpha': -0.9000000000000323}\n",
      "nan  for {'m_pr__alpha': -0.8000000000000327}\n",
      "nan  for {'m_pr__alpha': -0.700000000000033}\n",
      "nan  for {'m_pr__alpha': -0.6000000000000334}\n",
      "nan  for {'m_pr__alpha': -0.5000000000000338}\n",
      "nan  for {'m_pr__alpha': -0.4000000000000341}\n",
      "nan  for {'m_pr__alpha': -0.30000000000003446}\n",
      "nan  for {'m_pr__alpha': -0.20000000000003482}\n",
      "nan  for {'m_pr__alpha': -0.10000000000003517}\n",
      "nan  for {'m_pr__alpha': -3.552713678800501e-14}\n",
      "0.799  for {'m_pr__alpha': 0.09999999999996412}\n",
      "0.804  for {'m_pr__alpha': 0.19999999999996376}\n",
      "0.806  for {'m_pr__alpha': 0.2999999999999634}\n",
      "0.807  for {'m_pr__alpha': 0.39999999999996305}\n",
      "0.808  for {'m_pr__alpha': 0.4999999999999627}\n",
      "0.808  for {'m_pr__alpha': 0.5999999999999623}\n",
      "0.808  for {'m_pr__alpha': 0.699999999999962}\n",
      "0.808  for {'m_pr__alpha': 0.7999999999999616}\n",
      "0.807  for {'m_pr__alpha': 0.8999999999999613}\n",
      "0.807  for {'m_pr__alpha': 0.9999999999999609}\n",
      "0.806  for {'m_pr__alpha': 1.0999999999999606}\n",
      "0.806  for {'m_pr__alpha': 1.1999999999999602}\n",
      "0.805  for {'m_pr__alpha': 1.2999999999999599}\n",
      "0.804  for {'m_pr__alpha': 1.3999999999999595}\n",
      "0.803  for {'m_pr__alpha': 1.4999999999999591}\n",
      "0.802  for {'m_pr__alpha': 1.5999999999999588}\n",
      "0.801  for {'m_pr__alpha': 1.6999999999999584}\n",
      "0.8  for {'m_pr__alpha': 1.799999999999958}\n",
      "0.799  for {'m_pr__alpha': 1.8999999999999577}\n",
      "0.798  for {'m_pr__alpha': 1.9999999999999574}\n",
      "0.798  for {'m_pr__alpha': 2.099999999999957}\n",
      "0.797  for {'m_pr__alpha': 2.1999999999999567}\n",
      "0.796  for {'m_pr__alpha': 2.2999999999999563}\n",
      "0.795  for {'m_pr__alpha': 2.399999999999956}\n",
      "0.794  for {'m_pr__alpha': 2.4999999999999556}\n",
      "0.793  for {'m_pr__alpha': 2.5999999999999552}\n",
      "0.792  for {'m_pr__alpha': 2.699999999999955}\n",
      "0.791  for {'m_pr__alpha': 2.7999999999999545}\n",
      "0.79  for {'m_pr__alpha': 2.899999999999954}\n",
      "0.789  for {'m_pr__alpha': 2.999999999999954}\n",
      "0.788  for {'m_pr__alpha': 3.0999999999999535}\n",
      "0.787  for {'m_pr__alpha': 3.199999999999953}\n",
      "0.786  for {'m_pr__alpha': 3.2999999999999527}\n",
      "0.785  for {'m_pr__alpha': 3.3999999999999524}\n",
      "0.784  for {'m_pr__alpha': 3.499999999999952}\n",
      "0.783  for {'m_pr__alpha': 3.5999999999999517}\n",
      "0.782  for {'m_pr__alpha': 3.6999999999999513}\n",
      "0.781  for {'m_pr__alpha': 3.799999999999951}\n",
      "0.78  for {'m_pr__alpha': 3.8999999999999506}\n",
      "0.779  for {'m_pr__alpha': 3.9999999999999503}\n",
      "0.778  for {'m_pr__alpha': 4.09999999999995}\n",
      "0.777  for {'m_pr__alpha': 4.1999999999999496}\n",
      "0.776  for {'m_pr__alpha': 4.299999999999949}\n",
      "0.775  for {'m_pr__alpha': 4.399999999999949}\n",
      "0.774  for {'m_pr__alpha': 4.4999999999999485}\n",
      "0.773  for {'m_pr__alpha': 4.599999999999948}\n",
      "0.772  for {'m_pr__alpha': 4.699999999999948}\n",
      "0.771  for {'m_pr__alpha': 4.799999999999947}\n",
      "0.77  for {'m_pr__alpha': 4.899999999999947}\n",
      "0.769  for {'m_pr__alpha': 4.999999999999947}\n",
      "0.768  for {'m_pr__alpha': 5.099999999999946}\n",
      "0.767  for {'m_pr__alpha': 5.199999999999946}\n",
      "0.766  for {'m_pr__alpha': 5.299999999999946}\n",
      "0.765  for {'m_pr__alpha': 5.399999999999945}\n",
      "0.765  for {'m_pr__alpha': 5.499999999999945}\n",
      "0.764  for {'m_pr__alpha': 5.599999999999945}\n",
      "0.763  for {'m_pr__alpha': 5.699999999999944}\n",
      "0.762  for {'m_pr__alpha': 5.799999999999944}\n",
      "0.761  for {'m_pr__alpha': 5.8999999999999435}\n",
      "0.76  for {'m_pr__alpha': 5.999999999999943}\n",
      "0.759  for {'m_pr__alpha': 6.099999999999945}\n",
      "0.758  for {'m_pr__alpha': 6.1999999999999424}\n",
      "0.757  for {'m_pr__alpha': 6.29999999999994}\n",
      "0.756  for {'m_pr__alpha': 6.399999999999942}\n",
      "0.755  for {'m_pr__alpha': 6.499999999999943}\n",
      "0.755  for {'m_pr__alpha': 6.599999999999941}\n",
      "0.754  for {'m_pr__alpha': 6.699999999999939}\n",
      "0.753  for {'m_pr__alpha': 6.79999999999994}\n",
      "0.752  for {'m_pr__alpha': 6.899999999999942}\n",
      "0.751  for {'m_pr__alpha': 6.99999999999994}\n",
      "0.75  for {'m_pr__alpha': 7.0999999999999375}\n",
      "0.749  for {'m_pr__alpha': 7.199999999999939}\n",
      "0.748  for {'m_pr__alpha': 7.29999999999994}\n",
      "0.748  for {'m_pr__alpha': 7.399999999999938}\n",
      "0.747  for {'m_pr__alpha': 7.499999999999936}\n",
      "0.746  for {'m_pr__alpha': 7.5999999999999375}\n",
      "0.745  for {'m_pr__alpha': 7.699999999999939}\n",
      "0.744  for {'m_pr__alpha': 7.799999999999937}\n",
      "0.743  for {'m_pr__alpha': 7.899999999999935}\n",
      "0.742  for {'m_pr__alpha': 7.999999999999936}\n",
      "0.742  for {'m_pr__alpha': 8.099999999999937}\n",
      "0.741  for {'m_pr__alpha': 8.199999999999935}\n",
      "0.74  for {'m_pr__alpha': 8.299999999999933}\n",
      "0.739  for {'m_pr__alpha': 8.399999999999935}\n",
      "0.738  for {'m_pr__alpha': 8.499999999999936}\n",
      "0.737  for {'m_pr__alpha': 8.599999999999934}\n",
      "0.737  for {'m_pr__alpha': 8.699999999999932}\n",
      "0.736  for {'m_pr__alpha': 8.799999999999933}\n",
      "0.735  for {'m_pr__alpha': 8.899999999999935}\n",
      "0.734  for {'m_pr__alpha': 8.999999999999932}\n",
      "0.733  for {'m_pr__alpha': 9.09999999999993}\n",
      "0.732  for {'m_pr__alpha': 9.199999999999932}\n",
      "0.732  for {'m_pr__alpha': 9.299999999999933}\n",
      "0.731  for {'m_pr__alpha': 9.399999999999931}\n",
      "0.73  for {'m_pr__alpha': 9.499999999999929}\n",
      "0.729  for {'m_pr__alpha': 9.59999999999993}\n",
      "0.728  for {'m_pr__alpha': 9.699999999999932}\n",
      "0.728  for {'m_pr__alpha': 9.79999999999993}\n",
      "0.727  for {'m_pr__alpha': 9.899999999999928}\n"
     ]
    }
   ],
   "source": [
    "# Print results of hyperparameter optimization using random search       \n",
    "print_results(cv_h, show_all=True)"
   ]
  },
  {
   "cell_type": "markdown",
   "id": "435d0d54-02f5-4e05-a965-575e74829a72",
   "metadata": {},
   "source": [
    "### Random Forest Regression"
   ]
  },
  {
   "cell_type": "markdown",
   "id": "8bca22b7-62df-4bb0-aa6e-2aea541adb46",
   "metadata": {},
   "source": [
    "#### Feature Engineering"
   ]
  },
  {
   "cell_type": "markdown",
   "id": "6dbb3779-f950-4e8b-a98e-8b5dc2ac2596",
   "metadata": {},
   "source": [
    "Not required"
   ]
  },
  {
   "cell_type": "markdown",
   "id": "9434c827-05d9-47cb-b9bb-65450dce7a4e",
   "metadata": {},
   "source": [
    "#### Create Model"
   ]
  },
  {
   "cell_type": "code",
   "execution_count": 74,
   "id": "49b478a2-1a25-4aee-b5d2-caccaf139ccb",
   "metadata": {},
   "outputs": [],
   "source": [
    "rfr = TransformedTargetRegressor(regressor=RandomForestRegressor(),func=np.log1p, inverse_func=np.expm1)"
   ]
  },
  {
   "cell_type": "code",
   "execution_count": 75,
   "id": "ff1ce87c-595f-4656-aa7f-d7cb60b46a5c",
   "metadata": {},
   "outputs": [
    {
     "data": {
      "text/html": [
       "<style>#sk-container-id-6 {color: black;background-color: white;}#sk-container-id-6 pre{padding: 0;}#sk-container-id-6 div.sk-toggleable {background-color: white;}#sk-container-id-6 label.sk-toggleable__label {cursor: pointer;display: block;width: 100%;margin-bottom: 0;padding: 0.3em;box-sizing: border-box;text-align: center;}#sk-container-id-6 label.sk-toggleable__label-arrow:before {content: \"▸\";float: left;margin-right: 0.25em;color: #696969;}#sk-container-id-6 label.sk-toggleable__label-arrow:hover:before {color: black;}#sk-container-id-6 div.sk-estimator:hover label.sk-toggleable__label-arrow:before {color: black;}#sk-container-id-6 div.sk-toggleable__content {max-height: 0;max-width: 0;overflow: hidden;text-align: left;background-color: #f0f8ff;}#sk-container-id-6 div.sk-toggleable__content pre {margin: 0.2em;color: black;border-radius: 0.25em;background-color: #f0f8ff;}#sk-container-id-6 input.sk-toggleable__control:checked~div.sk-toggleable__content {max-height: 200px;max-width: 100%;overflow: auto;}#sk-container-id-6 input.sk-toggleable__control:checked~label.sk-toggleable__label-arrow:before {content: \"▾\";}#sk-container-id-6 div.sk-estimator input.sk-toggleable__control:checked~label.sk-toggleable__label {background-color: #d4ebff;}#sk-container-id-6 div.sk-label input.sk-toggleable__control:checked~label.sk-toggleable__label {background-color: #d4ebff;}#sk-container-id-6 input.sk-hidden--visually {border: 0;clip: rect(1px 1px 1px 1px);clip: rect(1px, 1px, 1px, 1px);height: 1px;margin: -1px;overflow: hidden;padding: 0;position: absolute;width: 1px;}#sk-container-id-6 div.sk-estimator {font-family: monospace;background-color: #f0f8ff;border: 1px dotted black;border-radius: 0.25em;box-sizing: border-box;margin-bottom: 0.5em;}#sk-container-id-6 div.sk-estimator:hover {background-color: #d4ebff;}#sk-container-id-6 div.sk-parallel-item::after {content: \"\";width: 100%;border-bottom: 1px solid gray;flex-grow: 1;}#sk-container-id-6 div.sk-label:hover label.sk-toggleable__label {background-color: #d4ebff;}#sk-container-id-6 div.sk-serial::before {content: \"\";position: absolute;border-left: 1px solid gray;box-sizing: border-box;top: 0;bottom: 0;left: 50%;z-index: 0;}#sk-container-id-6 div.sk-serial {display: flex;flex-direction: column;align-items: center;background-color: white;padding-right: 0.2em;padding-left: 0.2em;position: relative;}#sk-container-id-6 div.sk-item {position: relative;z-index: 1;}#sk-container-id-6 div.sk-parallel {display: flex;align-items: stretch;justify-content: center;background-color: white;position: relative;}#sk-container-id-6 div.sk-item::before, #sk-container-id-6 div.sk-parallel-item::before {content: \"\";position: absolute;border-left: 1px solid gray;box-sizing: border-box;top: 0;bottom: 0;left: 50%;z-index: -1;}#sk-container-id-6 div.sk-parallel-item {display: flex;flex-direction: column;z-index: 1;position: relative;background-color: white;}#sk-container-id-6 div.sk-parallel-item:first-child::after {align-self: flex-end;width: 50%;}#sk-container-id-6 div.sk-parallel-item:last-child::after {align-self: flex-start;width: 50%;}#sk-container-id-6 div.sk-parallel-item:only-child::after {width: 0;}#sk-container-id-6 div.sk-dashed-wrapped {border: 1px dashed gray;margin: 0 0.4em 0.5em 0.4em;box-sizing: border-box;padding-bottom: 0.4em;background-color: white;}#sk-container-id-6 div.sk-label label {font-family: monospace;font-weight: bold;display: inline-block;line-height: 1.2em;}#sk-container-id-6 div.sk-label-container {text-align: center;}#sk-container-id-6 div.sk-container {/* jupyter's `normalize.less` sets `[hidden] { display: none; }` but bootstrap.min.css set `[hidden] { display: none !important; }` so we also need the `!important` here to be able to override the default hidden behavior on the sphinx rendered scikit-learn.org. See: https://github.com/scikit-learn/scikit-learn/issues/21755 */display: inline-block !important;position: relative;}#sk-container-id-6 div.sk-text-repr-fallback {display: none;}</style><div id=\"sk-container-id-6\" class=\"sk-top-container\"><div class=\"sk-text-repr-fallback\"><pre>TransformedTargetRegressor(func=&lt;ufunc &#x27;log1p&#x27;&gt;, inverse_func=&lt;ufunc &#x27;expm1&#x27;&gt;,\n",
       "                           regressor=RandomForestRegressor())</pre><b>In a Jupyter environment, please rerun this cell to show the HTML representation or trust the notebook. <br />On GitHub, the HTML representation is unable to render, please try loading this page with nbviewer.org.</b></div><div class=\"sk-container\" hidden><div class=\"sk-item sk-dashed-wrapped\"><div class=\"sk-label-container\"><div class=\"sk-label sk-toggleable\"><input class=\"sk-toggleable__control sk-hidden--visually\" id=\"sk-estimator-id-54\" type=\"checkbox\" ><label for=\"sk-estimator-id-54\" class=\"sk-toggleable__label sk-toggleable__label-arrow\">TransformedTargetRegressor</label><div class=\"sk-toggleable__content\"><pre>TransformedTargetRegressor(func=&lt;ufunc &#x27;log1p&#x27;&gt;, inverse_func=&lt;ufunc &#x27;expm1&#x27;&gt;,\n",
       "                           regressor=RandomForestRegressor())</pre></div></div></div><div class=\"sk-parallel\"><div class=\"sk-parallel-item\"><div class=\"sk-item\"><div class=\"sk-label-container\"><div class=\"sk-label sk-toggleable\"><input class=\"sk-toggleable__control sk-hidden--visually\" id=\"sk-estimator-id-55\" type=\"checkbox\" ><label for=\"sk-estimator-id-55\" class=\"sk-toggleable__label sk-toggleable__label-arrow\">regressor: RandomForestRegressor</label><div class=\"sk-toggleable__content\"><pre>RandomForestRegressor()</pre></div></div></div><div class=\"sk-serial\"><div class=\"sk-item\"><div class=\"sk-estimator sk-toggleable\"><input class=\"sk-toggleable__control sk-hidden--visually\" id=\"sk-estimator-id-56\" type=\"checkbox\" ><label for=\"sk-estimator-id-56\" class=\"sk-toggleable__label sk-toggleable__label-arrow\">RandomForestRegressor</label><div class=\"sk-toggleable__content\"><pre>RandomForestRegressor()</pre></div></div></div></div></div></div></div></div></div></div>"
      ],
      "text/plain": [
       "TransformedTargetRegressor(func=<ufunc 'log1p'>, inverse_func=<ufunc 'expm1'>,\n",
       "                           regressor=RandomForestRegressor())"
      ]
     },
     "execution_count": 75,
     "metadata": {},
     "output_type": "execute_result"
    }
   ],
   "source": [
    "rfr.fit(X_train,y_train)"
   ]
  },
  {
   "cell_type": "markdown",
   "id": "9ca3f9c8-d549-42a5-8165-e96d8ccaa6b9",
   "metadata": {},
   "source": [
    "#### Evaluate Model"
   ]
  },
  {
   "cell_type": "code",
   "execution_count": 77,
   "id": "f0768969-009a-440a-85ac-3762d6b54064",
   "metadata": {},
   "outputs": [
    {
     "name": "stdout",
     "output_type": "stream",
     "text": [
      "R2 train : 0.99\n",
      "R2 test: 0.94\n",
      "\n",
      "\n",
      "RMSLE train: 0.11\n",
      "RMSLE test: 0.32\n"
     ]
    }
   ],
   "source": [
    "print_evaluation_metrics(rfr,X_train,y_train,X_test,y_test)"
   ]
  },
  {
   "cell_type": "code",
   "execution_count": null,
   "id": "d2f06f5e-2c38-4c2b-b3bd-32ce05ed63ff",
   "metadata": {},
   "outputs": [],
   "source": [
    "# Feature Importance\n"
   ]
  }
 ],
 "metadata": {
  "kernelspec": {
   "display_name": "Python 3 (ipykernel)",
   "language": "python",
   "name": "python3"
  },
  "language_info": {
   "codemirror_mode": {
    "name": "ipython",
    "version": 3
   },
   "file_extension": ".py",
   "mimetype": "text/x-python",
   "name": "python",
   "nbconvert_exporter": "python",
   "pygments_lexer": "ipython3",
   "version": "3.9.12"
  }
 },
 "nbformat": 4,
 "nbformat_minor": 5
}
